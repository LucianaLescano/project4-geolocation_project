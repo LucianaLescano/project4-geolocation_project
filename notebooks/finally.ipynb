{
 "cells": [
  {
   "cell_type": "code",
   "execution_count": 116,
   "metadata": {},
   "outputs": [],
   "source": [
    "import pandas as pd\n",
    "import folium\n",
    "from folium import Choropleth, Circle, Marker, Icon, Map\n",
    "from folium.plugins import HeatMap, MarkerCluster\n",
    "import math"
   ]
  },
  {
   "cell_type": "code",
   "execution_count": 270,
   "metadata": {},
   "outputs": [],
   "source": [
    "%load_ext autoreload\n",
    "%autoreload 2"
   ]
  },
  {
   "cell_type": "code",
   "execution_count": 272,
   "metadata": {},
   "outputs": [],
   "source": [
    "import sys"
   ]
  },
  {
   "cell_type": "code",
   "execution_count": 273,
   "metadata": {},
   "outputs": [],
   "source": [
    "sys.path.append('../src')"
   ]
  },
  {
   "cell_type": "markdown",
   "metadata": {},
   "source": [
    "# From data to ...\n",
    "\n",
    "Impoting all the dataframes "
   ]
  },
  {
   "cell_type": "code",
   "execution_count": null,
   "metadata": {},
   "outputs": [],
   "source": [
    "original = pd.read_csv('../output/companies_brasil.csv', index_col='Unnamed: 0')\n",
    "original = original.rename({'latitude':'latitud', 'longitude':'longitud'}, axis=1)\n",
    "original"
   ]
  },
  {
   "cell_type": "code",
   "execution_count": null,
   "metadata": {},
   "outputs": [],
   "source": [
    "bars = pd.read_csv('../output/bars.csv', index_col='Unnamed: 0')\n",
    "bars"
   ]
  },
  {
   "cell_type": "code",
   "execution_count": null,
   "metadata": {},
   "outputs": [],
   "source": [
    "starbucks = pd.read_csv('../output/starbucks.csv', index_col='Unnamed: 0')\n",
    "starbucks"
   ]
  },
  {
   "cell_type": "code",
   "execution_count": null,
   "metadata": {},
   "outputs": [],
   "source": [
    "airports = pd.read_csv('../output/airports.csv', index_col='Unnamed: 0')\n",
    "airports"
   ]
  },
  {
   "cell_type": "markdown",
   "metadata": {},
   "source": [
    "## About my  conditions\n",
    "\n",
    "Based on the conditions, almost all the companies fulfill the conditions of bars and starbucks but only a few fulfill the airport conditions. \n",
    "\n",
    "There are only three companies that are close to the airport Congonhas-São Paulo Airport (Aeroporto de São Paulo/Congonhas)."
   ]
  },
  {
   "cell_type": "code",
   "execution_count": 26,
   "metadata": {},
   "outputs": [
    {
     "name": "stdout",
     "output_type": "stream",
     "text": [
      "                                                 name    latitud   longitud\n",
      "0   Aeroporto de São Paulo / Congonhas (CGH) (Aero... -23.625777 -46.660055\n",
      "3   Aeroporto de São Paulo / Congonhas (CGH) (Aero... -23.625777 -46.660055\n",
      "11  Aeroporto de São Paulo / Congonhas (CGH) (Aero... -23.625777 -46.660055\n"
     ]
    }
   ],
   "source": [
    "# Busco los indices de las empresas que quiero descartar \n",
    "\n",
    "for a in airports.name:\n",
    "    if a == 'Aeroporto de São Paulo / Congonhas (CGH) (Aeroporto de São Paulo / Congonhas)':\n",
    "        j = airports.loc[airports.name == a]\n",
    "print(j)"
   ]
  },
  {
   "cell_type": "markdown",
   "metadata": {},
   "source": [
    "#### Droping"
   ]
  },
  {
   "cell_type": "code",
   "execution_count": 274,
   "metadata": {},
   "outputs": [],
   "source": [
    "from for_finally import droping"
   ]
  },
  {
   "cell_type": "code",
   "execution_count": 30,
   "metadata": {},
   "outputs": [],
   "source": [
    "# Lista de filas que quiero descartar\n",
    "\n",
    "to_drop = [1,2,4,5,6,7,8,9,10]"
   ]
  },
  {
   "cell_type": "code",
   "execution_count": 275,
   "metadata": {},
   "outputs": [],
   "source": [
    "original_ = droping(original, to_drop)\n",
    "original_\n",
    "type1 = ['company']"
   ]
  },
  {
   "cell_type": "code",
   "execution_count": 66,
   "metadata": {},
   "outputs": [],
   "source": [
    "bars_ = droping(bars, to_drop)\n",
    "bars_\n",
    "type2 = ['bar']"
   ]
  },
  {
   "cell_type": "code",
   "execution_count": 70,
   "metadata": {},
   "outputs": [],
   "source": [
    "starbucks_ = droping(starbucks, to_drop)\n",
    "starbucks_\n",
    "type3 = ['starbucks']"
   ]
  },
  {
   "cell_type": "code",
   "execution_count": 113,
   "metadata": {},
   "outputs": [],
   "source": [
    "to_drop_a = [1,2,3,4,5,6,7,8,9,10,11]\n",
    "airports_ = droping(airports, to_drop_a)\n",
    "airports_\n",
    "type4 = ['airport']"
   ]
  },
  {
   "cell_type": "markdown",
   "metadata": {},
   "source": [
    "#### Adding a type"
   ]
  },
  {
   "cell_type": "code",
   "execution_count": 277,
   "metadata": {},
   "outputs": [],
   "source": [
    "from for_finally import adding_type"
   ]
  },
  {
   "cell_type": "code",
   "execution_count": null,
   "metadata": {},
   "outputs": [],
   "source": [
    "original_final = adding_type(original_, type1)\n",
    "original_final"
   ]
  },
  {
   "cell_type": "code",
   "execution_count": null,
   "metadata": {},
   "outputs": [],
   "source": [
    "bars_final = adding_type(bars_, type2)\n",
    "bars_final"
   ]
  },
  {
   "cell_type": "code",
   "execution_count": null,
   "metadata": {},
   "outputs": [],
   "source": [
    "starbucks_final = adding_type(starbucks_, type3)\n",
    "starbucks_final"
   ]
  },
  {
   "cell_type": "code",
   "execution_count": null,
   "metadata": {},
   "outputs": [],
   "source": [
    "airports_final = adding_type(airports_, type4)\n",
    "airports_final"
   ]
  },
  {
   "cell_type": "markdown",
   "metadata": {},
   "source": [
    "#### Merging"
   ]
  },
  {
   "cell_type": "code",
   "execution_count": 279,
   "metadata": {},
   "outputs": [],
   "source": [
    "from for_finally import concating"
   ]
  },
  {
   "cell_type": "code",
   "execution_count": 280,
   "metadata": {},
   "outputs": [
    {
     "data": {
      "text/html": [
       "<div>\n",
       "<style scoped>\n",
       "    .dataframe tbody tr th:only-of-type {\n",
       "        vertical-align: middle;\n",
       "    }\n",
       "\n",
       "    .dataframe tbody tr th {\n",
       "        vertical-align: top;\n",
       "    }\n",
       "\n",
       "    .dataframe thead th {\n",
       "        text-align: right;\n",
       "    }\n",
       "</style>\n",
       "<table border=\"1\" class=\"dataframe\">\n",
       "  <thead>\n",
       "    <tr style=\"text-align: right;\">\n",
       "      <th></th>\n",
       "      <th>name</th>\n",
       "      <th>latitud</th>\n",
       "      <th>longitud</th>\n",
       "      <th>type</th>\n",
       "    </tr>\n",
       "  </thead>\n",
       "  <tbody>\n",
       "    <tr>\n",
       "      <th>0</th>\n",
       "      <td>Google</td>\n",
       "      <td>-23.590463</td>\n",
       "      <td>-46.681494</td>\n",
       "      <td>company</td>\n",
       "    </tr>\n",
       "    <tr>\n",
       "      <th>1</th>\n",
       "      <td>F5 Networks</td>\n",
       "      <td>-23.620738</td>\n",
       "      <td>-46.698267</td>\n",
       "      <td>company</td>\n",
       "    </tr>\n",
       "    <tr>\n",
       "      <th>2</th>\n",
       "      <td>Hands</td>\n",
       "      <td>-23.597854</td>\n",
       "      <td>-46.683560</td>\n",
       "      <td>company</td>\n",
       "    </tr>\n",
       "    <tr>\n",
       "      <th>3</th>\n",
       "      <td>Bar do Juarez</td>\n",
       "      <td>-23.590130</td>\n",
       "      <td>-46.680532</td>\n",
       "      <td>bar</td>\n",
       "    </tr>\n",
       "    <tr>\n",
       "      <th>4</th>\n",
       "      <td>Pirajá</td>\n",
       "      <td>-23.624079</td>\n",
       "      <td>-46.699207</td>\n",
       "      <td>bar</td>\n",
       "    </tr>\n",
       "    <tr>\n",
       "      <th>5</th>\n",
       "      <td>Bar do Celso</td>\n",
       "      <td>-23.602081</td>\n",
       "      <td>-46.683298</td>\n",
       "      <td>bar</td>\n",
       "    </tr>\n",
       "    <tr>\n",
       "      <th>6</th>\n",
       "      <td>Starbucks</td>\n",
       "      <td>-23.591730</td>\n",
       "      <td>-46.690174</td>\n",
       "      <td>starbucks</td>\n",
       "    </tr>\n",
       "    <tr>\n",
       "      <th>7</th>\n",
       "      <td>Starbucks</td>\n",
       "      <td>-23.622330</td>\n",
       "      <td>-46.698825</td>\n",
       "      <td>starbucks</td>\n",
       "    </tr>\n",
       "    <tr>\n",
       "      <th>8</th>\n",
       "      <td>Starbucks</td>\n",
       "      <td>-23.594799</td>\n",
       "      <td>-46.689611</td>\n",
       "      <td>starbucks</td>\n",
       "    </tr>\n",
       "    <tr>\n",
       "      <th>9</th>\n",
       "      <td>Aeroporto de São Paulo / Congonhas (CGH) (Aero...</td>\n",
       "      <td>-23.625777</td>\n",
       "      <td>-46.660055</td>\n",
       "      <td>airport</td>\n",
       "    </tr>\n",
       "  </tbody>\n",
       "</table>\n",
       "</div>"
      ],
      "text/plain": [
       "                                                name    latitud   longitud  \\\n",
       "0                                             Google -23.590463 -46.681494   \n",
       "1                                        F5 Networks -23.620738 -46.698267   \n",
       "2                                              Hands -23.597854 -46.683560   \n",
       "3                                      Bar do Juarez -23.590130 -46.680532   \n",
       "4                                             Pirajá -23.624079 -46.699207   \n",
       "5                                       Bar do Celso -23.602081 -46.683298   \n",
       "6                                          Starbucks -23.591730 -46.690174   \n",
       "7                                          Starbucks -23.622330 -46.698825   \n",
       "8                                          Starbucks -23.594799 -46.689611   \n",
       "9  Aeroporto de São Paulo / Congonhas (CGH) (Aero... -23.625777 -46.660055   \n",
       "\n",
       "        type  \n",
       "0    company  \n",
       "1    company  \n",
       "2    company  \n",
       "3        bar  \n",
       "4        bar  \n",
       "5        bar  \n",
       "6  starbucks  \n",
       "7  starbucks  \n",
       "8  starbucks  \n",
       "9    airport  "
      ]
     },
     "execution_count": 280,
     "metadata": {},
     "output_type": "execute_result"
    }
   ],
   "source": [
    "to_concat = [original_final, bars_final, starbucks_final, airports_final]\n",
    "final = concating(to_concat)\n",
    "final"
   ]
  },
  {
   "cell_type": "markdown",
   "metadata": {},
   "source": [
    "# ...Visualization"
   ]
  },
  {
   "cell_type": "code",
   "execution_count": 107,
   "metadata": {},
   "outputs": [],
   "source": [
    "map_1 = Map(location=[-23.590463, -46.681494], zoom_star=15)"
   ]
  },
  {
   "cell_type": "code",
   "execution_count": 115,
   "metadata": {
    "scrolled": true
   },
   "outputs": [
    {
     "data": {
      "text/html": [
       "<div style=\"width:100%;\"><div style=\"position:relative;width:100%;height:0;padding-bottom:60%;\"><span style=\"color:#565656\">Make this Notebook Trusted to load map: File -> Trust Notebook</span><iframe src=\"about:blank\" style=\"position:absolute;width:100%;height:100%;left:0;top:0;border:none !important;\" data-html=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 onload=\"this.contentDocument.open();this.contentDocument.write(atob(this.getAttribute('data-html')));this.contentDocument.close();\" allowfullscreen webkitallowfullscreen mozallowfullscreen></iframe></div></div>"
      ],
      "text/plain": [
       "<folium.folium.Map at 0x10f20dc10>"
      ]
     },
     "execution_count": 115,
     "metadata": {},
     "output_type": "execute_result"
    }
   ],
   "source": [
    "for ind,row in final.iterrows():\n",
    "    the_thing = {\n",
    "        'location': [row['latitud'], row['longitud']],\n",
    "        'tooltip' : row['name']}\n",
    "    if row['type'] == 'company':\n",
    "        icon_ = Icon(color = 'blue',\n",
    "                    prefix = 'fa',\n",
    "                    icon = 'briefcase',\n",
    "                    icon_color = 'black')\n",
    "    elif row['type'] == 'bar':\n",
    "        icon_ = Icon(color = 'orange',\n",
    "                    prefix = 'fa',\n",
    "                    icon = 'glass',\n",
    "                    icon_color = 'black')\n",
    "    elif row['type'] == 'starbucks':\n",
    "        icon_ = Icon(color = 'green',\n",
    "                    prefix = 'fa',\n",
    "                    icon = 'coffee',\n",
    "                    icon_color = 'black')\n",
    "    else:\n",
    "        icon_ = Icon(color = 'red',\n",
    "                    prefix = 'fa',\n",
    "                    icon = 'plane',\n",
    "                    icon_color = 'black')\n",
    "    Marker(**the_thing, icon=icon_).add_to(map_1)\n",
    "map_1"
   ]
  },
  {
   "cell_type": "markdown",
   "metadata": {},
   "source": [
    "# ...and also facts\n",
    "\n",
    "Calculating distances"
   ]
  },
  {
   "cell_type": "code",
   "execution_count": 288,
   "metadata": {},
   "outputs": [],
   "source": [
    "# Calcula la distancia\n",
    "from for_finally import haversine\n",
    "# Lista con resultados\n",
    "from for_finally import getting_numbers \n",
    "# Dataframe a partir de lista\n",
    "from for_finally import final_df "
   ]
  },
  {
   "cell_type": "code",
   "execution_count": 141,
   "metadata": {},
   "outputs": [],
   "source": [
    "# Coordenadas de cada empresa\n",
    "\n",
    "google_coord = -23.590463, -46.681494\n",
    "F5_networks_coord = -23.620738, -46.698267\n",
    "hands_coord = -23.597854, -46.683560"
   ]
  },
  {
   "cell_type": "code",
   "execution_count": 159,
   "metadata": {},
   "outputs": [],
   "source": [
    "# Diccionarios con las coordenadas de cada condición\n",
    "\n",
    "bars_coords = {\n",
    "    'Bar do Juarez': (-23.590130, -46.680532),\n",
    "    'Pirajá': (-23.624079, -46.699207),\n",
    "    'Bar do Celso': (-23.602081,-46.683298)\n",
    "}\n",
    "\n",
    "starbucks_coods = {\n",
    "    'Starbucks1': (-23.591730, -46.690174),\n",
    "    'Starbucks2': (-23.622330, -46.698825),\n",
    "    'Starbucks3': (-23.594799, -46.689611)\n",
    "}\n",
    "\n",
    "airports_coords = {\n",
    "    'Aeroporto de São Paulo / Congonhas (CGH) (Aeroporto de São Paulo / Congonhas)': (-23.625777, -46.660055)\n",
    "}"
   ]
  },
  {
   "cell_type": "markdown",
   "metadata": {},
   "source": [
    "### From Google to anywhere:"
   ]
  },
  {
   "cell_type": "code",
   "execution_count": 286,
   "metadata": {},
   "outputs": [],
   "source": [
    "one = getting_numbers(google_coord, bars_coords)"
   ]
  },
  {
   "cell_type": "code",
   "execution_count": 248,
   "metadata": {},
   "outputs": [],
   "source": [
    "two = getting_numbers(google_coord, starbucks_coods)"
   ]
  },
  {
   "cell_type": "code",
   "execution_count": 249,
   "metadata": {},
   "outputs": [],
   "source": [
    "three = getting_numbers(google_coord, airports_coords)"
   ]
  },
  {
   "cell_type": "code",
   "execution_count": 289,
   "metadata": {
    "scrolled": true
   },
   "outputs": [
    {
     "data": {
      "text/html": [
       "<div>\n",
       "<style scoped>\n",
       "    .dataframe tbody tr th:only-of-type {\n",
       "        vertical-align: middle;\n",
       "    }\n",
       "\n",
       "    .dataframe tbody tr th {\n",
       "        vertical-align: top;\n",
       "    }\n",
       "\n",
       "    .dataframe thead th {\n",
       "        text-align: right;\n",
       "    }\n",
       "</style>\n",
       "<table border=\"1\" class=\"dataframe\">\n",
       "  <thead>\n",
       "    <tr style=\"text-align: right;\">\n",
       "      <th></th>\n",
       "      <th>name</th>\n",
       "      <th>distance</th>\n",
       "    </tr>\n",
       "  </thead>\n",
       "  <tbody>\n",
       "    <tr>\n",
       "      <th>0</th>\n",
       "      <td>Bar do Juarez</td>\n",
       "      <td>104.819744</td>\n",
       "    </tr>\n",
       "    <tr>\n",
       "      <th>1</th>\n",
       "      <td>Pirajá</td>\n",
       "      <td>4151.989967</td>\n",
       "    </tr>\n",
       "    <tr>\n",
       "      <th>2</th>\n",
       "      <td>Bar do Celso</td>\n",
       "      <td>1305.244233</td>\n",
       "    </tr>\n",
       "    <tr>\n",
       "      <th>3</th>\n",
       "      <td>Starbucks1</td>\n",
       "      <td>895.910393</td>\n",
       "    </tr>\n",
       "    <tr>\n",
       "      <th>4</th>\n",
       "      <td>Starbucks2</td>\n",
       "      <td>3960.192891</td>\n",
       "    </tr>\n",
       "    <tr>\n",
       "      <th>5</th>\n",
       "      <td>Starbucks3</td>\n",
       "      <td>957.662597</td>\n",
       "    </tr>\n",
       "    <tr>\n",
       "      <th>6</th>\n",
       "      <td>Aeroporto de São Paulo / Congonhas (CGH) (Aero...</td>\n",
       "      <td>4494.689648</td>\n",
       "    </tr>\n",
       "  </tbody>\n",
       "</table>\n",
       "</div>"
      ],
      "text/plain": [
       "                                                name     distance\n",
       "0                                      Bar do Juarez   104.819744\n",
       "1                                             Pirajá  4151.989967\n",
       "2                                       Bar do Celso  1305.244233\n",
       "3                                         Starbucks1   895.910393\n",
       "4                                         Starbucks2  3960.192891\n",
       "5                                         Starbucks3   957.662597\n",
       "6  Aeroporto de São Paulo / Congonhas (CGH) (Aero...  4494.689648"
      ]
     },
     "execution_count": 289,
     "metadata": {},
     "output_type": "execute_result"
    }
   ],
   "source": [
    "google_distance = final_df(one,two,three)\n",
    "google_distance"
   ]
  },
  {
   "cell_type": "markdown",
   "metadata": {},
   "source": [
    "### From F5 Networks to anywhere:"
   ]
  },
  {
   "cell_type": "code",
   "execution_count": 254,
   "metadata": {},
   "outputs": [],
   "source": [
    "four = getting_numbers(F5_networks_coord, bars_coords)"
   ]
  },
  {
   "cell_type": "code",
   "execution_count": 255,
   "metadata": {},
   "outputs": [],
   "source": [
    "five = getting_numbers(F5_networks_coord, starbucks_coods)"
   ]
  },
  {
   "cell_type": "code",
   "execution_count": 256,
   "metadata": {},
   "outputs": [],
   "source": [
    "six = getting_numbers(F5_networks_coord, airports_coords)"
   ]
  },
  {
   "cell_type": "code",
   "execution_count": 257,
   "metadata": {},
   "outputs": [
    {
     "data": {
      "text/html": [
       "<div>\n",
       "<style scoped>\n",
       "    .dataframe tbody tr th:only-of-type {\n",
       "        vertical-align: middle;\n",
       "    }\n",
       "\n",
       "    .dataframe tbody tr th {\n",
       "        vertical-align: top;\n",
       "    }\n",
       "\n",
       "    .dataframe thead th {\n",
       "        text-align: right;\n",
       "    }\n",
       "</style>\n",
       "<table border=\"1\" class=\"dataframe\">\n",
       "  <thead>\n",
       "    <tr style=\"text-align: right;\">\n",
       "      <th></th>\n",
       "      <th>name</th>\n",
       "      <th>distance</th>\n",
       "    </tr>\n",
       "  </thead>\n",
       "  <tbody>\n",
       "    <tr>\n",
       "      <th>0</th>\n",
       "      <td>Bar do Juarez</td>\n",
       "      <td>3854.510813</td>\n",
       "    </tr>\n",
       "    <tr>\n",
       "      <th>1</th>\n",
       "      <td>Pirajá</td>\n",
       "      <td>383.755134</td>\n",
       "    </tr>\n",
       "    <tr>\n",
       "      <th>2</th>\n",
       "      <td>Bar do Celso</td>\n",
       "      <td>2575.575390</td>\n",
       "    </tr>\n",
       "    <tr>\n",
       "      <th>3</th>\n",
       "      <td>Starbucks1</td>\n",
       "      <td>3330.217225</td>\n",
       "    </tr>\n",
       "    <tr>\n",
       "      <th>4</th>\n",
       "      <td>Starbucks2</td>\n",
       "      <td>185.978856</td>\n",
       "    </tr>\n",
       "    <tr>\n",
       "      <th>5</th>\n",
       "      <td>Starbucks3</td>\n",
       "      <td>3016.964990</td>\n",
       "    </tr>\n",
       "    <tr>\n",
       "      <th>6</th>\n",
       "      <td>Aeroporto de São Paulo / Congonhas (CGH) (Aero...</td>\n",
       "      <td>3934.144138</td>\n",
       "    </tr>\n",
       "  </tbody>\n",
       "</table>\n",
       "</div>"
      ],
      "text/plain": [
       "                                                name     distance\n",
       "0                                      Bar do Juarez  3854.510813\n",
       "1                                             Pirajá   383.755134\n",
       "2                                       Bar do Celso  2575.575390\n",
       "3                                         Starbucks1  3330.217225\n",
       "4                                         Starbucks2   185.978856\n",
       "5                                         Starbucks3  3016.964990\n",
       "6  Aeroporto de São Paulo / Congonhas (CGH) (Aero...  3934.144138"
      ]
     },
     "execution_count": 257,
     "metadata": {},
     "output_type": "execute_result"
    }
   ],
   "source": [
    "F5_networkds_distance = final_df(four,five,six)\n",
    "F5_networkds_distance"
   ]
  },
  {
   "cell_type": "markdown",
   "metadata": {},
   "source": [
    "### From Hands to anywhere:"
   ]
  },
  {
   "cell_type": "code",
   "execution_count": 258,
   "metadata": {},
   "outputs": [],
   "source": [
    "seven = getting_numbers(hands_coord, bars_coords)"
   ]
  },
  {
   "cell_type": "code",
   "execution_count": 259,
   "metadata": {},
   "outputs": [],
   "source": [
    "eight = getting_numbers(hands_coord, starbucks_coods)"
   ]
  },
  {
   "cell_type": "code",
   "execution_count": 260,
   "metadata": {},
   "outputs": [],
   "source": [
    "nine = getting_numbers(hands_coord, airports_coords)"
   ]
  },
  {
   "cell_type": "code",
   "execution_count": 261,
   "metadata": {},
   "outputs": [
    {
     "data": {
      "text/html": [
       "<div>\n",
       "<style scoped>\n",
       "    .dataframe tbody tr th:only-of-type {\n",
       "        vertical-align: middle;\n",
       "    }\n",
       "\n",
       "    .dataframe tbody tr th {\n",
       "        vertical-align: top;\n",
       "    }\n",
       "\n",
       "    .dataframe thead th {\n",
       "        text-align: right;\n",
       "    }\n",
       "</style>\n",
       "<table border=\"1\" class=\"dataframe\">\n",
       "  <thead>\n",
       "    <tr style=\"text-align: right;\">\n",
       "      <th></th>\n",
       "      <th>name</th>\n",
       "      <th>distance</th>\n",
       "    </tr>\n",
       "  </thead>\n",
       "  <tbody>\n",
       "    <tr>\n",
       "      <th>0</th>\n",
       "      <td>Bar do Juarez</td>\n",
       "      <td>912.870166</td>\n",
       "    </tr>\n",
       "    <tr>\n",
       "      <th>1</th>\n",
       "      <td>Pirajá</td>\n",
       "      <td>3324.354000</td>\n",
       "    </tr>\n",
       "    <tr>\n",
       "      <th>2</th>\n",
       "      <td>Bar do Celso</td>\n",
       "      <td>470.911513</td>\n",
       "    </tr>\n",
       "    <tr>\n",
       "      <th>3</th>\n",
       "      <td>Starbucks1</td>\n",
       "      <td>958.354656</td>\n",
       "    </tr>\n",
       "    <tr>\n",
       "      <th>4</th>\n",
       "      <td>Starbucks2</td>\n",
       "      <td>3135.549994</td>\n",
       "    </tr>\n",
       "    <tr>\n",
       "      <th>5</th>\n",
       "      <td>Starbucks3</td>\n",
       "      <td>704.167149</td>\n",
       "    </tr>\n",
       "    <tr>\n",
       "      <th>6</th>\n",
       "      <td>Aeroporto de São Paulo / Congonhas (CGH) (Aero...</td>\n",
       "      <td>3922.275795</td>\n",
       "    </tr>\n",
       "  </tbody>\n",
       "</table>\n",
       "</div>"
      ],
      "text/plain": [
       "                                                name     distance\n",
       "0                                      Bar do Juarez   912.870166\n",
       "1                                             Pirajá  3324.354000\n",
       "2                                       Bar do Celso   470.911513\n",
       "3                                         Starbucks1   958.354656\n",
       "4                                         Starbucks2  3135.549994\n",
       "5                                         Starbucks3   704.167149\n",
       "6  Aeroporto de São Paulo / Congonhas (CGH) (Aero...  3922.275795"
      ]
     },
     "execution_count": 261,
     "metadata": {},
     "output_type": "execute_result"
    }
   ],
   "source": [
    "hands_distance = final_df(seven,eight,nine)\n",
    "hands_distance"
   ]
  },
  {
   "cell_type": "markdown",
   "metadata": {},
   "source": [
    "# Finally\n",
    "\n",
    "Finally I have chosen F5 Networks as the best location for my company, since it has a bar, a starbucks and the airport very close. \n",
    "\n",
    "The location would be: (-23.620738, -46.698267)"
   ]
  },
  {
   "cell_type": "code",
   "execution_count": 267,
   "metadata": {},
   "outputs": [
    {
     "data": {
      "text/html": [
       "<div style=\"width:100%;\"><div style=\"position:relative;width:100%;height:0;padding-bottom:60%;\"><span style=\"color:#565656\">Make this Notebook Trusted to load map: File -> Trust Notebook</span><iframe src=\"about:blank\" style=\"position:absolute;width:100%;height:100%;left:0;top:0;border:none !important;\" data-html=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 onload=\"this.contentDocument.open();this.contentDocument.write(atob(this.getAttribute('data-html')));this.contentDocument.close();\" allowfullscreen webkitallowfullscreen mozallowfullscreen></iframe></div></div>"
      ],
      "text/plain": [
       "<folium.folium.Map at 0x110267fa0>"
      ]
     },
     "execution_count": 267,
     "metadata": {},
     "output_type": "execute_result"
    }
   ],
   "source": [
    "map_2 = Map(location=[-23.620738, -46.698267], zoom_star=15)\n",
    "my_loc = Marker(location=[-23.620738, -46.698267], tooltip='my final location :)').add_to(map_2)\n",
    "map_2"
   ]
  }
 ],
 "metadata": {
  "kernelspec": {
   "display_name": "Python 3",
   "language": "python",
   "name": "python3"
  },
  "language_info": {
   "codemirror_mode": {
    "name": "ipython",
    "version": 3
   },
   "file_extension": ".py",
   "mimetype": "text/x-python",
   "name": "python",
   "nbconvert_exporter": "python",
   "pygments_lexer": "ipython3",
   "version": "3.9.0"
  }
 },
 "nbformat": 4,
 "nbformat_minor": 4
}
