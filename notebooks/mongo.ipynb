{
 "cells": [
  {
   "cell_type": "code",
   "execution_count": 255,
   "metadata": {},
   "outputs": [],
   "source": [
    "import re\n",
    "import pandas as pd\n",
    "import folium\n",
    "from folium import Choropleth, Circle, Marker, Icon, Map\n",
    "from folium.plugins import HeatMap, MarkerCluster"
   ]
  },
  {
   "cell_type": "markdown",
   "metadata": {},
   "source": [
    "# Getting info from Mongodb"
   ]
  },
  {
   "cell_type": "code",
   "execution_count": 2,
   "metadata": {},
   "outputs": [],
   "source": [
    "from pymongo import MongoClient"
   ]
  },
  {
   "cell_type": "code",
   "execution_count": 3,
   "metadata": {},
   "outputs": [],
   "source": [
    "conn = MongoClient(\"localhost:27017\")"
   ]
  },
  {
   "cell_type": "code",
   "execution_count": 19,
   "metadata": {},
   "outputs": [],
   "source": [
    "db = conn.get_database(\"Ironhack\")"
   ]
  },
  {
   "cell_type": "code",
   "execution_count": 20,
   "metadata": {},
   "outputs": [],
   "source": [
    "col = db.get_collection(\"Companies\")"
   ]
  },
  {
   "cell_type": "code",
   "execution_count": 43,
   "metadata": {},
   "outputs": [],
   "source": [
    "one = list(col.distinct('offices.country_code'))"
   ]
  },
  {
   "cell_type": "markdown",
   "metadata": {},
   "source": [
    "## I choose companies from Sao Paulo-Brasil "
   ]
  },
  {
   "cell_type": "code",
   "execution_count": 237,
   "metadata": {},
   "outputs": [],
   "source": [
    "two = list(col.find({'offices.city':{\"$regex\": \"^\\S.*Paulo$\"}}, {'name':1, 'offices.city':1, 'offices.latitude':1, 'offices.longitude':1, '_id':0}))"
   ]
  },
  {
   "cell_type": "code",
   "execution_count": null,
   "metadata": {},
   "outputs": [],
   "source": [
    "two"
   ]
  },
  {
   "cell_type": "code",
   "execution_count": 252,
   "metadata": {},
   "outputs": [],
   "source": [
    "def only_sao_paulo():\n",
    "    ''' Función que devuelve solo las empresas que están en Sao Paulo y que \n",
    "        tienen latitud y longitud diferentes a None.\n",
    "        input = nada\n",
    "        ouput = lista\n",
    "    '''\n",
    "    posibilities = ['Sao Paulo', 'SÃ£o Paulo', 'São Paulo', 'Salo Paulo', 'SÃ¢o Paulo']\n",
    "    new_two_list = []\n",
    "    for t in two:\n",
    "        new_two = {}\n",
    "        for o in t['offices']:\n",
    "            if (o['city'] in posibilities) and (o['latitude'] != None or o['longitude'] != None):\n",
    "                new_two['name'] = t['name']\n",
    "                new_two['latitude'] = o['latitude']\n",
    "                new_two['longitude'] = o['longitude']\n",
    "                new_two_list.append(new_two.copy())\n",
    "    return new_two_list"
   ]
  },
  {
   "cell_type": "code",
   "execution_count": 297,
   "metadata": {
    "scrolled": false
   },
   "outputs": [],
   "source": [
    "three = only_sao_paulo()\n",
    "#three"
   ]
  },
  {
   "cell_type": "code",
   "execution_count": 279,
   "metadata": {},
   "outputs": [
    {
     "data": {
      "text/html": [
       "<div>\n",
       "<style scoped>\n",
       "    .dataframe tbody tr th:only-of-type {\n",
       "        vertical-align: middle;\n",
       "    }\n",
       "\n",
       "    .dataframe tbody tr th {\n",
       "        vertical-align: top;\n",
       "    }\n",
       "\n",
       "    .dataframe thead th {\n",
       "        text-align: right;\n",
       "    }\n",
       "</style>\n",
       "<table border=\"1\" class=\"dataframe\">\n",
       "  <thead>\n",
       "    <tr style=\"text-align: right;\">\n",
       "      <th></th>\n",
       "      <th>name</th>\n",
       "      <th>latitude</th>\n",
       "      <th>longitude</th>\n",
       "    </tr>\n",
       "  </thead>\n",
       "  <tbody>\n",
       "    <tr>\n",
       "      <th>0</th>\n",
       "      <td>Google</td>\n",
       "      <td>-23.590463</td>\n",
       "      <td>-46.681494</td>\n",
       "    </tr>\n",
       "    <tr>\n",
       "      <th>1</th>\n",
       "      <td>boo-box</td>\n",
       "      <td>-23.558584</td>\n",
       "      <td>-46.679287</td>\n",
       "    </tr>\n",
       "    <tr>\n",
       "      <th>2</th>\n",
       "      <td>Buongiorno</td>\n",
       "      <td>-23.609180</td>\n",
       "      <td>-46.692783</td>\n",
       "    </tr>\n",
       "    <tr>\n",
       "      <th>3</th>\n",
       "      <td>Globant</td>\n",
       "      <td>-23.560620</td>\n",
       "      <td>-46.681658</td>\n",
       "    </tr>\n",
       "    <tr>\n",
       "      <th>4</th>\n",
       "      <td>Estilook</td>\n",
       "      <td>-23.548943</td>\n",
       "      <td>-46.638818</td>\n",
       "    </tr>\n",
       "    <tr>\n",
       "      <th>5</th>\n",
       "      <td>Xandros</td>\n",
       "      <td>-23.527594</td>\n",
       "      <td>-46.677049</td>\n",
       "    </tr>\n",
       "    <tr>\n",
       "      <th>6</th>\n",
       "      <td>F5 Networks</td>\n",
       "      <td>-23.620738</td>\n",
       "      <td>-46.698267</td>\n",
       "    </tr>\n",
       "    <tr>\n",
       "      <th>7</th>\n",
       "      <td>Youtubehiphop</td>\n",
       "      <td>-23.548943</td>\n",
       "      <td>-46.638818</td>\n",
       "    </tr>\n",
       "    <tr>\n",
       "      <th>8</th>\n",
       "      <td>NETCRAW  IT</td>\n",
       "      <td>-23.548943</td>\n",
       "      <td>-46.638818</td>\n",
       "    </tr>\n",
       "    <tr>\n",
       "      <th>9</th>\n",
       "      <td>Imobilien</td>\n",
       "      <td>-25.434356</td>\n",
       "      <td>-49.283289</td>\n",
       "    </tr>\n",
       "    <tr>\n",
       "      <th>10</th>\n",
       "      <td>Did it Leak</td>\n",
       "      <td>-23.548943</td>\n",
       "      <td>-46.638818</td>\n",
       "    </tr>\n",
       "    <tr>\n",
       "      <th>11</th>\n",
       "      <td>Spring Mobile Solutions</td>\n",
       "      <td>-23.596530</td>\n",
       "      <td>-46.686453</td>\n",
       "    </tr>\n",
       "    <tr>\n",
       "      <th>12</th>\n",
       "      <td>North by South</td>\n",
       "      <td>-23.561293</td>\n",
       "      <td>-46.691819</td>\n",
       "    </tr>\n",
       "    <tr>\n",
       "      <th>13</th>\n",
       "      <td>Brandsclub</td>\n",
       "      <td>-23.548943</td>\n",
       "      <td>-46.638818</td>\n",
       "    </tr>\n",
       "    <tr>\n",
       "      <th>14</th>\n",
       "      <td>CPM Braxis</td>\n",
       "      <td>-23.591042</td>\n",
       "      <td>-46.687202</td>\n",
       "    </tr>\n",
       "    <tr>\n",
       "      <th>15</th>\n",
       "      <td>DP7 Digital</td>\n",
       "      <td>-23.581521</td>\n",
       "      <td>-46.677369</td>\n",
       "    </tr>\n",
       "    <tr>\n",
       "      <th>16</th>\n",
       "      <td>Hands</td>\n",
       "      <td>-23.597854</td>\n",
       "      <td>-46.683560</td>\n",
       "    </tr>\n",
       "  </tbody>\n",
       "</table>\n",
       "</div>"
      ],
      "text/plain": [
       "                       name   latitude  longitude\n",
       "0                    Google -23.590463 -46.681494\n",
       "1                   boo-box -23.558584 -46.679287\n",
       "2                Buongiorno -23.609180 -46.692783\n",
       "3                   Globant -23.560620 -46.681658\n",
       "4                  Estilook -23.548943 -46.638818\n",
       "5                   Xandros -23.527594 -46.677049\n",
       "6               F5 Networks -23.620738 -46.698267\n",
       "7             Youtubehiphop -23.548943 -46.638818\n",
       "8               NETCRAW  IT -23.548943 -46.638818\n",
       "9                 Imobilien -25.434356 -49.283289\n",
       "10              Did it Leak -23.548943 -46.638818\n",
       "11  Spring Mobile Solutions -23.596530 -46.686453\n",
       "12           North by South -23.561293 -46.691819\n",
       "13               Brandsclub -23.548943 -46.638818\n",
       "14               CPM Braxis -23.591042 -46.687202\n",
       "15              DP7 Digital -23.581521 -46.677369\n",
       "16                    Hands -23.597854 -46.683560"
      ]
     },
     "execution_count": 279,
     "metadata": {},
     "output_type": "execute_result"
    }
   ],
   "source": [
    "# Dataframe with all the info from above\n",
    "\n",
    "data = pd.DataFrame.from_dict(three)\n",
    "data"
   ]
  },
  {
   "cell_type": "markdown",
   "metadata": {},
   "source": [
    "## Map to locate all the companies in Sao Paulo"
   ]
  },
  {
   "cell_type": "code",
   "execution_count": 283,
   "metadata": {},
   "outputs": [],
   "source": [
    "map1 = Map(location=[-23.590463, -46.681494], zoom_star=15)"
   ]
  },
  {
   "cell_type": "code",
   "execution_count": 293,
   "metadata": {
    "scrolled": true
   },
   "outputs": [
    {
     "data": {
      "text/html": [
       "<div style=\"width:100%;\"><div style=\"position:relative;width:100%;height:0;padding-bottom:60%;\"><span style=\"color:#565656\">Make this Notebook Trusted to load map: File -> Trust Notebook</span><iframe src=\"about:blank\" style=\"position:absolute;width:100%;height:100%;left:0;top:0;border:none !important;\" data-html=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 onload=\"this.contentDocument.open();this.contentDocument.write(atob(this.getAttribute('data-html')));this.contentDocument.close();\" allowfullscreen webkitallowfullscreen mozallowfullscreen></iframe></div></div>"
      ],
      "text/plain": [
       "<folium.folium.Map at 0x1182d7460>"
      ]
     },
     "execution_count": 293,
     "metadata": {},
     "output_type": "execute_result"
    }
   ],
   "source": [
    "for ind,row in data.iterrows():\n",
    "    company = {\n",
    "        'location': [row['latitude'], row['longitude']],\n",
    "        'tooltip' : row['name']}\n",
    "    icon_ = Icon(color = 'blue',\n",
    "                prefix = 'fa',\n",
    "                icon = 'briefcase',\n",
    "                icon_color = 'black')\n",
    "    Marker(**company, icon=icon_).add_to(map1)\n",
    "map1"
   ]
  },
  {
   "cell_type": "code",
   "execution_count": null,
   "metadata": {},
   "outputs": [],
   "source": []
  },
  {
   "cell_type": "code",
   "execution_count": null,
   "metadata": {},
   "outputs": [],
   "source": []
  },
  {
   "cell_type": "code",
   "execution_count": 296,
   "metadata": {},
   "outputs": [],
   "source": [
    "data.to_csv('../output/companies_brasil.csv')"
   ]
  }
 ],
 "metadata": {
  "kernelspec": {
   "display_name": "Python 3",
   "language": "python",
   "name": "python3"
  },
  "language_info": {
   "codemirror_mode": {
    "name": "ipython",
    "version": 3
   },
   "file_extension": ".py",
   "mimetype": "text/x-python",
   "name": "python",
   "nbconvert_exporter": "python",
   "pygments_lexer": "ipython3",
   "version": "3.9.0"
  }
 },
 "nbformat": 4,
 "nbformat_minor": 4
}
