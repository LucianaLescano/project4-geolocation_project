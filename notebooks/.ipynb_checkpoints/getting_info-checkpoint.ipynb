{
 "cells": [
  {
   "cell_type": "code",
   "execution_count": 236,
   "metadata": {},
   "outputs": [],
   "source": [
    "import requests\n",
    "import json\n",
    "from dotenv import load_dotenv\n",
    "import os\n",
    "import pandas as pd\n",
    "from functools import reduce\n",
    "import operator\n",
    "import numpy as np"
   ]
  },
  {
   "cell_type": "code",
   "execution_count": 263,
   "metadata": {},
   "outputs": [],
   "source": [
    "%load_ext autoreload\n",
    "%autoreload 2"
   ]
  },
  {
   "cell_type": "code",
   "execution_count": 264,
   "metadata": {},
   "outputs": [],
   "source": [
    "import sys"
   ]
  },
  {
   "cell_type": "code",
   "execution_count": 266,
   "metadata": {},
   "outputs": [],
   "source": [
    "sys.path.append('../src')"
   ]
  },
  {
   "cell_type": "markdown",
   "metadata": {},
   "source": [
    "# Getting info from Foursquare API"
   ]
  },
  {
   "cell_type": "code",
   "execution_count": 279,
   "metadata": {},
   "outputs": [
    {
     "data": {
      "text/plain": [
       "True"
      ]
     },
     "execution_count": 279,
     "metadata": {},
     "output_type": "execute_result"
    }
   ],
   "source": [
    "load_dotenv()"
   ]
  },
  {
   "cell_type": "code",
   "execution_count": 273,
   "metadata": {
    "scrolled": false
   },
   "outputs": [
    {
     "data": {
      "text/html": [
       "<div>\n",
       "<style scoped>\n",
       "    .dataframe tbody tr th:only-of-type {\n",
       "        vertical-align: middle;\n",
       "    }\n",
       "\n",
       "    .dataframe tbody tr th {\n",
       "        vertical-align: top;\n",
       "    }\n",
       "\n",
       "    .dataframe thead th {\n",
       "        text-align: right;\n",
       "    }\n",
       "</style>\n",
       "<table border=\"1\" class=\"dataframe\">\n",
       "  <thead>\n",
       "    <tr style=\"text-align: right;\">\n",
       "      <th></th>\n",
       "      <th>name</th>\n",
       "      <th>latitude</th>\n",
       "      <th>longitude</th>\n",
       "    </tr>\n",
       "  </thead>\n",
       "  <tbody>\n",
       "    <tr>\n",
       "      <th>0</th>\n",
       "      <td>Google</td>\n",
       "      <td>-23.590463</td>\n",
       "      <td>-46.681494</td>\n",
       "    </tr>\n",
       "    <tr>\n",
       "      <th>1</th>\n",
       "      <td>Buongiorno</td>\n",
       "      <td>-23.609180</td>\n",
       "      <td>-46.692783</td>\n",
       "    </tr>\n",
       "    <tr>\n",
       "      <th>2</th>\n",
       "      <td>Estilook</td>\n",
       "      <td>-23.548943</td>\n",
       "      <td>-46.638818</td>\n",
       "    </tr>\n",
       "    <tr>\n",
       "      <th>3</th>\n",
       "      <td>F5 Networks</td>\n",
       "      <td>-23.620738</td>\n",
       "      <td>-46.698267</td>\n",
       "    </tr>\n",
       "    <tr>\n",
       "      <th>4</th>\n",
       "      <td>Youtubehiphop</td>\n",
       "      <td>-23.548943</td>\n",
       "      <td>-46.638818</td>\n",
       "    </tr>\n",
       "    <tr>\n",
       "      <th>5</th>\n",
       "      <td>NETCRAW  IT</td>\n",
       "      <td>-23.548943</td>\n",
       "      <td>-46.638818</td>\n",
       "    </tr>\n",
       "    <tr>\n",
       "      <th>6</th>\n",
       "      <td>Imobilien</td>\n",
       "      <td>-25.434356</td>\n",
       "      <td>-49.283289</td>\n",
       "    </tr>\n",
       "    <tr>\n",
       "      <th>7</th>\n",
       "      <td>Did it Leak</td>\n",
       "      <td>-23.548943</td>\n",
       "      <td>-46.638818</td>\n",
       "    </tr>\n",
       "    <tr>\n",
       "      <th>8</th>\n",
       "      <td>Spring Mobile Solutions</td>\n",
       "      <td>-23.596530</td>\n",
       "      <td>-46.686453</td>\n",
       "    </tr>\n",
       "    <tr>\n",
       "      <th>9</th>\n",
       "      <td>CPM Braxis</td>\n",
       "      <td>-23.591042</td>\n",
       "      <td>-46.687202</td>\n",
       "    </tr>\n",
       "    <tr>\n",
       "      <th>10</th>\n",
       "      <td>DP7 Digital</td>\n",
       "      <td>-23.581521</td>\n",
       "      <td>-46.677369</td>\n",
       "    </tr>\n",
       "    <tr>\n",
       "      <th>11</th>\n",
       "      <td>Hands</td>\n",
       "      <td>-23.597854</td>\n",
       "      <td>-46.683560</td>\n",
       "    </tr>\n",
       "  </tbody>\n",
       "</table>\n",
       "</div>"
      ],
      "text/plain": [
       "                       name   latitude  longitude\n",
       "0                    Google -23.590463 -46.681494\n",
       "1                Buongiorno -23.609180 -46.692783\n",
       "2                  Estilook -23.548943 -46.638818\n",
       "3               F5 Networks -23.620738 -46.698267\n",
       "4             Youtubehiphop -23.548943 -46.638818\n",
       "5               NETCRAW  IT -23.548943 -46.638818\n",
       "6                 Imobilien -25.434356 -49.283289\n",
       "7               Did it Leak -23.548943 -46.638818\n",
       "8   Spring Mobile Solutions -23.596530 -46.686453\n",
       "9                CPM Braxis -23.591042 -46.687202\n",
       "10              DP7 Digital -23.581521 -46.677369\n",
       "11                    Hands -23.597854 -46.683560"
      ]
     },
     "execution_count": 273,
     "metadata": {},
     "output_type": "execute_result"
    }
   ],
   "source": [
    "# Coordenadas a partir del dataframe creado con info de mongodb\n",
    "\n",
    "brasil_data = pd.read_csv('../output/companies_brasil.csv', index_col='Unnamed: 0')\n",
    "brasil_data"
   ]
  },
  {
   "cell_type": "markdown",
   "metadata": {},
   "source": [
    "#### Aplico la función para cada una de las empresas, manualmente. Lo intenté mucho, muchisimo pero no pude :("
   ]
  },
  {
   "cell_type": "code",
   "execution_count": 268,
   "metadata": {},
   "outputs": [],
   "source": [
    "from for_api import get_things"
   ]
  },
  {
   "cell_type": "markdown",
   "metadata": {},
   "source": [
    "### Everyone in the company is between 25 and 40, give them some place to go party."
   ]
  },
  {
   "cell_type": "code",
   "execution_count": 278,
   "metadata": {},
   "outputs": [
    {
     "data": {
      "text/html": [
       "<div>\n",
       "<style scoped>\n",
       "    .dataframe tbody tr th:only-of-type {\n",
       "        vertical-align: middle;\n",
       "    }\n",
       "\n",
       "    .dataframe tbody tr th {\n",
       "        vertical-align: top;\n",
       "    }\n",
       "\n",
       "    .dataframe thead th {\n",
       "        text-align: right;\n",
       "    }\n",
       "</style>\n",
       "<table border=\"1\" class=\"dataframe\">\n",
       "  <thead>\n",
       "    <tr style=\"text-align: right;\">\n",
       "      <th></th>\n",
       "      <th>name</th>\n",
       "      <th>latitud</th>\n",
       "      <th>longitud</th>\n",
       "    </tr>\n",
       "  </thead>\n",
       "  <tbody>\n",
       "    <tr>\n",
       "      <th>0</th>\n",
       "      <td>Bar do Juarez</td>\n",
       "      <td>-23.59013</td>\n",
       "      <td>-46.680532</td>\n",
       "    </tr>\n",
       "  </tbody>\n",
       "</table>\n",
       "</div>"
      ],
      "text/plain": [
       "            name   latitud   longitud\n",
       "0  Bar do Juarez -23.59013 -46.680532"
      ]
     },
     "execution_count": 278,
     "metadata": {},
     "output_type": "execute_result"
    }
   ],
   "source": [
    "google = get_things(\"-23.590463\", \"-46.681494\", \"bars\")\n",
    "google"
   ]
  },
  {
   "cell_type": "code",
   "execution_count": null,
   "metadata": {
    "scrolled": false
   },
   "outputs": [],
   "source": [
    "buongiorno = get_things(\"-23.609180\", \"-46.692783\", \"bars\")\n",
    "buongiorno"
   ]
  },
  {
   "cell_type": "code",
   "execution_count": null,
   "metadata": {},
   "outputs": [],
   "source": [
    "estilook = get_things(\"-23.548943\", \"-46.638818\", \"bars\")\n",
    "estilook"
   ]
  },
  {
   "cell_type": "code",
   "execution_count": null,
   "metadata": {},
   "outputs": [],
   "source": [
    "F5_networks = get_things(\"-23.620738\", \"-46.698267\", \"bars\")\n",
    "F5_networks"
   ]
  },
  {
   "cell_type": "code",
   "execution_count": null,
   "metadata": {},
   "outputs": [],
   "source": [
    "youtubehiphop = get_things(\"-23.548943\", \"-46.638818\", \"bars\")\n",
    "youtubehiphop"
   ]
  },
  {
   "cell_type": "code",
   "execution_count": null,
   "metadata": {},
   "outputs": [],
   "source": [
    "netcraw_it = get_things(\"-23.548943\", \"-46.638818\", \"bars\")\n",
    "netcraw_it"
   ]
  },
  {
   "cell_type": "code",
   "execution_count": null,
   "metadata": {},
   "outputs": [],
   "source": [
    "imobilien = get_things(\"-25.434356\", \"-49.283289\", \"bars\")\n",
    "imobilien"
   ]
  },
  {
   "cell_type": "code",
   "execution_count": null,
   "metadata": {},
   "outputs": [],
   "source": [
    "did_it_leak = get_things(\"-23.548943\", \"-46.638818\", \"bars\")\n",
    "did_it_leak"
   ]
  },
  {
   "cell_type": "code",
   "execution_count": null,
   "metadata": {},
   "outputs": [],
   "source": [
    "spring_mobile_solutions = get_things(\"-23.596530\", \"-46.686453\", \"bars\")\n",
    "spring_mobile_solutions"
   ]
  },
  {
   "cell_type": "code",
   "execution_count": null,
   "metadata": {},
   "outputs": [],
   "source": [
    "CPM_braxis = get_things(\"-23.591042\", \"-46.687202\", \"bars\")\n",
    "CPM_braxis"
   ]
  },
  {
   "cell_type": "code",
   "execution_count": null,
   "metadata": {},
   "outputs": [],
   "source": [
    "DP7_digital = get_things(\"-23.581521\", \"-46.677369\", \"bars\")\n",
    "DP7_digital"
   ]
  },
  {
   "cell_type": "code",
   "execution_count": null,
   "metadata": {},
   "outputs": [],
   "source": [
    "hands = get_things(\"-23.597854\", \"-46.683560\", \"bars\")\n",
    "hands"
   ]
  },
  {
   "cell_type": "code",
   "execution_count": 280,
   "metadata": {},
   "outputs": [],
   "source": [
    "from for_api import concating"
   ]
  },
  {
   "cell_type": "code",
   "execution_count": 281,
   "metadata": {
    "scrolled": true
   },
   "outputs": [
    {
     "data": {
      "text/html": [
       "<div>\n",
       "<style scoped>\n",
       "    .dataframe tbody tr th:only-of-type {\n",
       "        vertical-align: middle;\n",
       "    }\n",
       "\n",
       "    .dataframe tbody tr th {\n",
       "        vertical-align: top;\n",
       "    }\n",
       "\n",
       "    .dataframe thead th {\n",
       "        text-align: right;\n",
       "    }\n",
       "</style>\n",
       "<table border=\"1\" class=\"dataframe\">\n",
       "  <thead>\n",
       "    <tr style=\"text-align: right;\">\n",
       "      <th></th>\n",
       "      <th>name</th>\n",
       "      <th>latitud</th>\n",
       "      <th>longitud</th>\n",
       "    </tr>\n",
       "  </thead>\n",
       "  <tbody>\n",
       "    <tr>\n",
       "      <th>0</th>\n",
       "      <td>Bar do Juarez</td>\n",
       "      <td>-23.590130</td>\n",
       "      <td>-46.680532</td>\n",
       "    </tr>\n",
       "    <tr>\n",
       "      <th>1</th>\n",
       "      <td>Verissimo Bar</td>\n",
       "      <td>-23.608191</td>\n",
       "      <td>-46.692621</td>\n",
       "    </tr>\n",
       "    <tr>\n",
       "      <th>2</th>\n",
       "      <td>Bar dos Arcos</td>\n",
       "      <td>-23.545892</td>\n",
       "      <td>-46.638848</td>\n",
       "    </tr>\n",
       "    <tr>\n",
       "      <th>3</th>\n",
       "      <td>Pirajá</td>\n",
       "      <td>-23.624079</td>\n",
       "      <td>-46.699207</td>\n",
       "    </tr>\n",
       "    <tr>\n",
       "      <th>4</th>\n",
       "      <td>Bar dos Arcos</td>\n",
       "      <td>-23.545892</td>\n",
       "      <td>-46.638848</td>\n",
       "    </tr>\n",
       "    <tr>\n",
       "      <th>5</th>\n",
       "      <td>Bar dos Arcos</td>\n",
       "      <td>-23.545892</td>\n",
       "      <td>-46.638848</td>\n",
       "    </tr>\n",
       "    <tr>\n",
       "      <th>6</th>\n",
       "      <td>BarBaran</td>\n",
       "      <td>-25.431105</td>\n",
       "      <td>-49.281602</td>\n",
       "    </tr>\n",
       "    <tr>\n",
       "      <th>7</th>\n",
       "      <td>Bar dos Arcos</td>\n",
       "      <td>-23.545892</td>\n",
       "      <td>-46.638848</td>\n",
       "    </tr>\n",
       "    <tr>\n",
       "      <th>8</th>\n",
       "      <td>Tatu Bola</td>\n",
       "      <td>-23.595361</td>\n",
       "      <td>-46.689127</td>\n",
       "    </tr>\n",
       "    <tr>\n",
       "      <th>9</th>\n",
       "      <td>Bar Astor</td>\n",
       "      <td>-23.590783</td>\n",
       "      <td>-46.690193</td>\n",
       "    </tr>\n",
       "    <tr>\n",
       "      <th>10</th>\n",
       "      <td>Vaca Véia</td>\n",
       "      <td>-23.582233</td>\n",
       "      <td>-46.679454</td>\n",
       "    </tr>\n",
       "    <tr>\n",
       "      <th>11</th>\n",
       "      <td>Bar do Celso</td>\n",
       "      <td>-23.602081</td>\n",
       "      <td>-46.683298</td>\n",
       "    </tr>\n",
       "  </tbody>\n",
       "</table>\n",
       "</div>"
      ],
      "text/plain": [
       "             name    latitud   longitud\n",
       "0   Bar do Juarez -23.590130 -46.680532\n",
       "1   Verissimo Bar -23.608191 -46.692621\n",
       "2   Bar dos Arcos -23.545892 -46.638848\n",
       "3          Pirajá -23.624079 -46.699207\n",
       "4   Bar dos Arcos -23.545892 -46.638848\n",
       "5   Bar dos Arcos -23.545892 -46.638848\n",
       "6        BarBaran -25.431105 -49.281602\n",
       "7   Bar dos Arcos -23.545892 -46.638848\n",
       "8       Tatu Bola -23.595361 -46.689127\n",
       "9       Bar Astor -23.590783 -46.690193\n",
       "10      Vaca Véia -23.582233 -46.679454\n",
       "11   Bar do Celso -23.602081 -46.683298"
      ]
     },
     "execution_count": 281,
     "metadata": {},
     "output_type": "execute_result"
    }
   ],
   "source": [
    "to_concat = [google, buongiorno, estilook , F5_networks, youtubehiphop, netcraw_it, imobilien, did_it_leak, spring_mobile_solutions, CPM_braxis, DP7_digital,hands]\n",
    "bars = concating(to_concat)\n",
    "bars"
   ]
  },
  {
   "cell_type": "code",
   "execution_count": 258,
   "metadata": {},
   "outputs": [],
   "source": [
    "# Importo dataframe \n",
    "\n",
    "bars.to_csv('../output/bars.csv')"
   ]
  },
  {
   "cell_type": "markdown",
   "metadata": {},
   "source": [
    "### Executives like Starbucks A LOT. Ensure there's a starbucks not too far."
   ]
  },
  {
   "cell_type": "code",
   "execution_count": 261,
   "metadata": {},
   "outputs": [
    {
     "data": {
      "text/html": [
       "<div>\n",
       "<style scoped>\n",
       "    .dataframe tbody tr th:only-of-type {\n",
       "        vertical-align: middle;\n",
       "    }\n",
       "\n",
       "    .dataframe tbody tr th {\n",
       "        vertical-align: top;\n",
       "    }\n",
       "\n",
       "    .dataframe thead th {\n",
       "        text-align: right;\n",
       "    }\n",
       "</style>\n",
       "<table border=\"1\" class=\"dataframe\">\n",
       "  <thead>\n",
       "    <tr style=\"text-align: right;\">\n",
       "      <th></th>\n",
       "      <th>name</th>\n",
       "      <th>latitud</th>\n",
       "      <th>longitud</th>\n",
       "    </tr>\n",
       "  </thead>\n",
       "  <tbody>\n",
       "    <tr>\n",
       "      <th>0</th>\n",
       "      <td>Starbucks</td>\n",
       "      <td>-23.59173</td>\n",
       "      <td>-46.690174</td>\n",
       "    </tr>\n",
       "  </tbody>\n",
       "</table>\n",
       "</div>"
      ],
      "text/plain": [
       "        name   latitud   longitud\n",
       "0  Starbucks -23.59173 -46.690174"
      ]
     },
     "execution_count": 261,
     "metadata": {},
     "output_type": "execute_result"
    }
   ],
   "source": [
    "google = get_things(\"-23.590463\", \"-46.681494\", \"starbucks\")\n",
    "google"
   ]
  },
  {
   "cell_type": "code",
   "execution_count": null,
   "metadata": {
    "scrolled": false
   },
   "outputs": [],
   "source": [
    "buongiorno = get_things(\"-23.609180\", \"-46.692783\", \"starbucks\")\n",
    "buongiorno"
   ]
  },
  {
   "cell_type": "code",
   "execution_count": null,
   "metadata": {},
   "outputs": [],
   "source": [
    "estilook = get_things(\"-23.548943\", \"-46.638818\", \"starbucks\")\n",
    "estilook"
   ]
  },
  {
   "cell_type": "code",
   "execution_count": null,
   "metadata": {},
   "outputs": [],
   "source": [
    "F5_networks = get_things(\"-23.620738\", \"-46.698267\", \"starbucks\")\n",
    "F5_networks"
   ]
  },
  {
   "cell_type": "code",
   "execution_count": null,
   "metadata": {},
   "outputs": [],
   "source": [
    "youtubehiphop = get_things(\"-23.548943\", \"-46.638818\", \"starbucks\")\n",
    "youtubehiphop"
   ]
  },
  {
   "cell_type": "code",
   "execution_count": null,
   "metadata": {},
   "outputs": [],
   "source": [
    "netcraw_it = get_things(\"-23.548943\", \"-46.638818\", \"starbucks\")\n",
    "netcraw_it"
   ]
  },
  {
   "cell_type": "code",
   "execution_count": null,
   "metadata": {},
   "outputs": [],
   "source": [
    "imobilien = get_things(\"-25.434356\", \"-49.283289\", \"starbucks\")\n",
    "imobilien = pd.DataFrame([[np.nan] * 3],columns={'name', 'latitud', 'longitud'})\n",
    "imobilien"
   ]
  },
  {
   "cell_type": "code",
   "execution_count": null,
   "metadata": {},
   "outputs": [],
   "source": [
    "did_it_leak = get_things(\"-23.548943\", \"-46.638818\", \"starbucks\")\n",
    "did_it_leak"
   ]
  },
  {
   "cell_type": "code",
   "execution_count": null,
   "metadata": {},
   "outputs": [],
   "source": [
    "spring_mobile_solutions = get_things(\"-23.596530\", \"-46.686453\", \"starbucks\")\n",
    "spring_mobile_solutions"
   ]
  },
  {
   "cell_type": "code",
   "execution_count": null,
   "metadata": {},
   "outputs": [],
   "source": [
    "CPM_braxis = get_things(\"-23.591042\", \"-46.687202\", \"starbucks\")\n",
    "CPM_braxis"
   ]
  },
  {
   "cell_type": "code",
   "execution_count": null,
   "metadata": {},
   "outputs": [],
   "source": [
    "DP7_digital = get_things(\"-23.581521\", \"-46.677369\", \"starbucks\")\n",
    "DP7_digital"
   ]
  },
  {
   "cell_type": "code",
   "execution_count": null,
   "metadata": {},
   "outputs": [],
   "source": [
    "hands = get_things(\"-23.597854\", \"-46.683560\", \"starbucks\")\n",
    "hands"
   ]
  },
  {
   "cell_type": "code",
   "execution_count": 243,
   "metadata": {},
   "outputs": [
    {
     "data": {
      "text/html": [
       "<div>\n",
       "<style scoped>\n",
       "    .dataframe tbody tr th:only-of-type {\n",
       "        vertical-align: middle;\n",
       "    }\n",
       "\n",
       "    .dataframe tbody tr th {\n",
       "        vertical-align: top;\n",
       "    }\n",
       "\n",
       "    .dataframe thead th {\n",
       "        text-align: right;\n",
       "    }\n",
       "</style>\n",
       "<table border=\"1\" class=\"dataframe\">\n",
       "  <thead>\n",
       "    <tr style=\"text-align: right;\">\n",
       "      <th></th>\n",
       "      <th>name</th>\n",
       "      <th>latitud</th>\n",
       "      <th>longitud</th>\n",
       "    </tr>\n",
       "  </thead>\n",
       "  <tbody>\n",
       "    <tr>\n",
       "      <th>0</th>\n",
       "      <td>Starbucks</td>\n",
       "      <td>-23.591730</td>\n",
       "      <td>-46.690174</td>\n",
       "    </tr>\n",
       "    <tr>\n",
       "      <th>1</th>\n",
       "      <td>Starbucks</td>\n",
       "      <td>-23.610453</td>\n",
       "      <td>-46.697279</td>\n",
       "    </tr>\n",
       "    <tr>\n",
       "      <th>2</th>\n",
       "      <td>Starbucks</td>\n",
       "      <td>-23.544873</td>\n",
       "      <td>-46.642869</td>\n",
       "    </tr>\n",
       "    <tr>\n",
       "      <th>3</th>\n",
       "      <td>Starbucks</td>\n",
       "      <td>-23.622330</td>\n",
       "      <td>-46.698825</td>\n",
       "    </tr>\n",
       "    <tr>\n",
       "      <th>4</th>\n",
       "      <td>Starbucks</td>\n",
       "      <td>-23.544873</td>\n",
       "      <td>-46.642869</td>\n",
       "    </tr>\n",
       "    <tr>\n",
       "      <th>5</th>\n",
       "      <td>Starbucks</td>\n",
       "      <td>-23.544873</td>\n",
       "      <td>-46.642869</td>\n",
       "    </tr>\n",
       "    <tr>\n",
       "      <th>6</th>\n",
       "      <td>NaN</td>\n",
       "      <td>NaN</td>\n",
       "      <td>NaN</td>\n",
       "    </tr>\n",
       "    <tr>\n",
       "      <th>7</th>\n",
       "      <td>Starbucks</td>\n",
       "      <td>-23.544873</td>\n",
       "      <td>-46.642869</td>\n",
       "    </tr>\n",
       "    <tr>\n",
       "      <th>8</th>\n",
       "      <td>Starbucks</td>\n",
       "      <td>-23.594799</td>\n",
       "      <td>-46.689611</td>\n",
       "    </tr>\n",
       "    <tr>\n",
       "      <th>9</th>\n",
       "      <td>Starbucks</td>\n",
       "      <td>-23.591730</td>\n",
       "      <td>-46.690174</td>\n",
       "    </tr>\n",
       "    <tr>\n",
       "      <th>10</th>\n",
       "      <td>Starbucks</td>\n",
       "      <td>-23.582540</td>\n",
       "      <td>-46.676443</td>\n",
       "    </tr>\n",
       "    <tr>\n",
       "      <th>11</th>\n",
       "      <td>Starbucks</td>\n",
       "      <td>-23.594799</td>\n",
       "      <td>-46.689611</td>\n",
       "    </tr>\n",
       "  </tbody>\n",
       "</table>\n",
       "</div>"
      ],
      "text/plain": [
       "         name    latitud   longitud\n",
       "0   Starbucks -23.591730 -46.690174\n",
       "1   Starbucks -23.610453 -46.697279\n",
       "2   Starbucks -23.544873 -46.642869\n",
       "3   Starbucks -23.622330 -46.698825\n",
       "4   Starbucks -23.544873 -46.642869\n",
       "5   Starbucks -23.544873 -46.642869\n",
       "6         NaN        NaN        NaN\n",
       "7   Starbucks -23.544873 -46.642869\n",
       "8   Starbucks -23.594799 -46.689611\n",
       "9   Starbucks -23.591730 -46.690174\n",
       "10  Starbucks -23.582540 -46.676443\n",
       "11  Starbucks -23.594799 -46.689611"
      ]
     },
     "execution_count": 243,
     "metadata": {},
     "output_type": "execute_result"
    }
   ],
   "source": [
    "to_concat = [google, buongiorno, estilook , F5_networks, youtubehiphop, netcraw_it, imobilien, did_it_leak, spring_mobile_solutions, CPM_braxis, DP7_digital,hands]\n",
    "starbucks = concating(to_concat)\n",
    "starbucks"
   ]
  },
  {
   "cell_type": "code",
   "execution_count": 259,
   "metadata": {},
   "outputs": [],
   "source": [
    "# Importo dataframe \n",
    "\n",
    "starbucks.to_csv('../output/starbucks.csv')"
   ]
  },
  {
   "cell_type": "markdown",
   "metadata": {},
   "source": [
    "### Account managers need to travel a lot."
   ]
  },
  {
   "cell_type": "code",
   "execution_count": 208,
   "metadata": {},
   "outputs": [
    {
     "data": {
      "text/html": [
       "<div>\n",
       "<style scoped>\n",
       "    .dataframe tbody tr th:only-of-type {\n",
       "        vertical-align: middle;\n",
       "    }\n",
       "\n",
       "    .dataframe tbody tr th {\n",
       "        vertical-align: top;\n",
       "    }\n",
       "\n",
       "    .dataframe thead th {\n",
       "        text-align: right;\n",
       "    }\n",
       "</style>\n",
       "<table border=\"1\" class=\"dataframe\">\n",
       "  <thead>\n",
       "    <tr style=\"text-align: right;\">\n",
       "      <th></th>\n",
       "      <th>name</th>\n",
       "      <th>latitud</th>\n",
       "      <th>longitud</th>\n",
       "    </tr>\n",
       "  </thead>\n",
       "  <tbody>\n",
       "    <tr>\n",
       "      <th>0</th>\n",
       "      <td>Aeroporto de São Paulo / Congonhas (CGH) (Aero...</td>\n",
       "      <td>-23.625777</td>\n",
       "      <td>-46.660055</td>\n",
       "    </tr>\n",
       "  </tbody>\n",
       "</table>\n",
       "</div>"
      ],
      "text/plain": [
       "                                                name    latitud   longitud\n",
       "0  Aeroporto de São Paulo / Congonhas (CGH) (Aero... -23.625777 -46.660055"
      ]
     },
     "execution_count": 208,
     "metadata": {},
     "output_type": "execute_result"
    }
   ],
   "source": [
    "google = get_things(\"-23.590463\", \"-46.681494\", \"airport\")\n",
    "google"
   ]
  },
  {
   "cell_type": "code",
   "execution_count": null,
   "metadata": {
    "scrolled": false
   },
   "outputs": [],
   "source": [
    "buongiorno = get_things(\"-23.609180\", \"-46.692783\", \"airport\")\n",
    "buongiorno"
   ]
  },
  {
   "cell_type": "code",
   "execution_count": null,
   "metadata": {},
   "outputs": [],
   "source": [
    "estilook = get_things(\"-23.548943\", \"-46.638818\", \"airport\")\n",
    "estilook"
   ]
  },
  {
   "cell_type": "code",
   "execution_count": null,
   "metadata": {},
   "outputs": [],
   "source": [
    "F5_networks = get_things(\"-23.620738\", \"-46.698267\", \"airport\")\n",
    "F5_networks"
   ]
  },
  {
   "cell_type": "code",
   "execution_count": null,
   "metadata": {},
   "outputs": [],
   "source": [
    "youtubehiphop = get_things(\"-23.548943\", \"-46.638818\", \"airport\")\n",
    "youtubehiphop"
   ]
  },
  {
   "cell_type": "code",
   "execution_count": null,
   "metadata": {},
   "outputs": [],
   "source": [
    "netcraw_it = get_things(\"-23.548943\", \"-46.638818\", \"airport\")\n",
    "netcraw_it"
   ]
  },
  {
   "cell_type": "code",
   "execution_count": null,
   "metadata": {},
   "outputs": [],
   "source": [
    "imobilien = get_things(\"-25.434356\", \"-49.283289\", \"airport\")\n",
    "imobilien"
   ]
  },
  {
   "cell_type": "code",
   "execution_count": null,
   "metadata": {},
   "outputs": [],
   "source": [
    "did_it_leak = get_things(\"-23.548943\", \"-46.638818\", \"airport\")\n",
    "did_it_leak"
   ]
  },
  {
   "cell_type": "code",
   "execution_count": null,
   "metadata": {},
   "outputs": [],
   "source": [
    "spring_mobile_solutions = get_things(\"-23.596530\", \"-46.686453\", \"airport\")\n",
    "spring_mobile_solutions"
   ]
  },
  {
   "cell_type": "code",
   "execution_count": null,
   "metadata": {},
   "outputs": [],
   "source": [
    "CPM_braxis = get_things(\"-23.591042\", \"-46.687202\", \"airport\")\n",
    "CPM_braxis"
   ]
  },
  {
   "cell_type": "code",
   "execution_count": null,
   "metadata": {},
   "outputs": [],
   "source": [
    "DP7_digital = get_things(\"-23.581521\", \"-46.677369\", \"airport\")\n",
    "DP7_digital"
   ]
  },
  {
   "cell_type": "code",
   "execution_count": null,
   "metadata": {},
   "outputs": [],
   "source": [
    "hands = get_things(\"-23.597854\", \"-46.683560\", \"airport\")\n",
    "hands"
   ]
  },
  {
   "cell_type": "code",
   "execution_count": 220,
   "metadata": {},
   "outputs": [
    {
     "data": {
      "text/html": [
       "<div>\n",
       "<style scoped>\n",
       "    .dataframe tbody tr th:only-of-type {\n",
       "        vertical-align: middle;\n",
       "    }\n",
       "\n",
       "    .dataframe tbody tr th {\n",
       "        vertical-align: top;\n",
       "    }\n",
       "\n",
       "    .dataframe thead th {\n",
       "        text-align: right;\n",
       "    }\n",
       "</style>\n",
       "<table border=\"1\" class=\"dataframe\">\n",
       "  <thead>\n",
       "    <tr style=\"text-align: right;\">\n",
       "      <th></th>\n",
       "      <th>name</th>\n",
       "      <th>latitud</th>\n",
       "      <th>longitud</th>\n",
       "    </tr>\n",
       "  </thead>\n",
       "  <tbody>\n",
       "    <tr>\n",
       "      <th>0</th>\n",
       "      <td>Aeroporto de São Paulo / Congonhas (CGH) (Aero...</td>\n",
       "      <td>-23.625777</td>\n",
       "      <td>-46.660055</td>\n",
       "    </tr>\n",
       "    <tr>\n",
       "      <th>1</th>\n",
       "      <td>Decolando em Congonhas</td>\n",
       "      <td>-23.618007</td>\n",
       "      <td>-46.662738</td>\n",
       "    </tr>\n",
       "    <tr>\n",
       "      <th>2</th>\n",
       "      <td>Avianca Brasil (Praça da República)</td>\n",
       "      <td>-23.543110</td>\n",
       "      <td>-46.643524</td>\n",
       "    </tr>\n",
       "    <tr>\n",
       "      <th>3</th>\n",
       "      <td>Aeroporto de São Paulo / Congonhas (CGH) (Aero...</td>\n",
       "      <td>-23.625777</td>\n",
       "      <td>-46.660055</td>\n",
       "    </tr>\n",
       "    <tr>\n",
       "      <th>4</th>\n",
       "      <td>Avianca Brasil (Praça da República)</td>\n",
       "      <td>-23.543110</td>\n",
       "      <td>-46.643524</td>\n",
       "    </tr>\n",
       "    <tr>\n",
       "      <th>5</th>\n",
       "      <td>Avianca Brasil (Praça da República)</td>\n",
       "      <td>-23.543110</td>\n",
       "      <td>-46.643524</td>\n",
       "    </tr>\n",
       "    <tr>\n",
       "      <th>6</th>\n",
       "      <td>Positivo Airlines - UP</td>\n",
       "      <td>-25.434337</td>\n",
       "      <td>-49.288508</td>\n",
       "    </tr>\n",
       "    <tr>\n",
       "      <th>7</th>\n",
       "      <td>Avianca Brasil (Praça da República)</td>\n",
       "      <td>-23.543110</td>\n",
       "      <td>-46.643524</td>\n",
       "    </tr>\n",
       "    <tr>\n",
       "      <th>8</th>\n",
       "      <td>Decolando em Congonhas</td>\n",
       "      <td>-23.618007</td>\n",
       "      <td>-46.662738</td>\n",
       "    </tr>\n",
       "    <tr>\n",
       "      <th>9</th>\n",
       "      <td>Decolando em Congonhas</td>\n",
       "      <td>-23.618007</td>\n",
       "      <td>-46.662738</td>\n",
       "    </tr>\n",
       "    <tr>\n",
       "      <th>10</th>\n",
       "      <td>Audi Airport Service</td>\n",
       "      <td>-23.627522</td>\n",
       "      <td>-46.661182</td>\n",
       "    </tr>\n",
       "    <tr>\n",
       "      <th>11</th>\n",
       "      <td>Aeroporto de São Paulo / Congonhas (CGH) (Aero...</td>\n",
       "      <td>-23.625777</td>\n",
       "      <td>-46.660055</td>\n",
       "    </tr>\n",
       "  </tbody>\n",
       "</table>\n",
       "</div>"
      ],
      "text/plain": [
       "                                                 name    latitud   longitud\n",
       "0   Aeroporto de São Paulo / Congonhas (CGH) (Aero... -23.625777 -46.660055\n",
       "1                              Decolando em Congonhas -23.618007 -46.662738\n",
       "2                 Avianca Brasil (Praça da República) -23.543110 -46.643524\n",
       "3   Aeroporto de São Paulo / Congonhas (CGH) (Aero... -23.625777 -46.660055\n",
       "4                 Avianca Brasil (Praça da República) -23.543110 -46.643524\n",
       "5                 Avianca Brasil (Praça da República) -23.543110 -46.643524\n",
       "6                              Positivo Airlines - UP -25.434337 -49.288508\n",
       "7                 Avianca Brasil (Praça da República) -23.543110 -46.643524\n",
       "8                              Decolando em Congonhas -23.618007 -46.662738\n",
       "9                              Decolando em Congonhas -23.618007 -46.662738\n",
       "10                               Audi Airport Service -23.627522 -46.661182\n",
       "11  Aeroporto de São Paulo / Congonhas (CGH) (Aero... -23.625777 -46.660055"
      ]
     },
     "execution_count": 220,
     "metadata": {},
     "output_type": "execute_result"
    }
   ],
   "source": [
    "to_concat = [google, buongiorno, estilook , F5_networks, youtubehiphop, netcraw_it, imobilien, did_it_leak, spring_mobile_solutions, CPM_braxis, DP7_digital,hands]\n",
    "airports = concating(to_concat)\n",
    "airports"
   ]
  },
  {
   "cell_type": "code",
   "execution_count": 260,
   "metadata": {},
   "outputs": [],
   "source": [
    "# Importo dataframe \n",
    "\n",
    "airports.to_csv('../output/airports.csv')"
   ]
  }
 ],
 "metadata": {
  "kernelspec": {
   "display_name": "Python 3",
   "language": "python",
   "name": "python3"
  },
  "language_info": {
   "codemirror_mode": {
    "name": "ipython",
    "version": 3
   },
   "file_extension": ".py",
   "mimetype": "text/x-python",
   "name": "python",
   "nbconvert_exporter": "python",
   "pygments_lexer": "ipython3",
   "version": "3.9.0"
  }
 },
 "nbformat": 4,
 "nbformat_minor": 4
}
