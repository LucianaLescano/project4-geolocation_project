{
 "cells": [
  {
   "cell_type": "code",
   "execution_count": 1,
   "metadata": {},
   "outputs": [],
   "source": [
    "import requests\n",
    "import json\n",
    "from dotenv import load_dotenv\n",
    "import os\n",
    "import pandas as pd\n",
    "from functools import reduce\n",
    "import operator"
   ]
  },
  {
   "cell_type": "markdown",
   "metadata": {},
   "source": [
    "# Getting info from Foursquare API"
   ]
  },
  {
   "cell_type": "code",
   "execution_count": 2,
   "metadata": {},
   "outputs": [
    {
     "data": {
      "text/plain": [
       "True"
      ]
     },
     "execution_count": 2,
     "metadata": {},
     "output_type": "execute_result"
    }
   ],
   "source": [
    "load_dotenv()"
   ]
  },
  {
   "cell_type": "code",
   "execution_count": 3,
   "metadata": {},
   "outputs": [],
   "source": [
    "# Tokens guardados en variable de entorno\n",
    "\n",
    "token1 = os.getenv(\"token1\")\n",
    "token2 = os.getenv(\"token2\")"
   ]
  },
  {
   "cell_type": "code",
   "execution_count": 4,
   "metadata": {},
   "outputs": [],
   "source": [
    "# Url definida\n",
    "\n",
    "url ='https://api.foursquare.com/v2/venues/explore'"
   ]
  },
  {
   "cell_type": "code",
   "execution_count": 8,
   "metadata": {
    "scrolled": false
   },
   "outputs": [],
   "source": [
    "# Coordenadas a partir del dataframe creado con info de mongodb\n",
    "\n",
    "brasil_data = pd.read_csv('../output/companies_brasil.csv', index_col='Unnamed: 0')"
   ]
  },
  {
   "cell_type": "code",
   "execution_count": 68,
   "metadata": {},
   "outputs": [],
   "source": [
    "# def get_things(data, query):\n",
    "#     parameters = { \"client_id\" : token1,\n",
    "#           \"client_secret\" : token2,\n",
    "#           \"v\" : \"20180323\",\n",
    "#           \"ll\": f\"{data['longitude']},{data['latitude']}\",\n",
    "#           \"query\": query,\n",
    "#           \"limit\" : 1\n",
    "#     }\n",
    "#     response = requests.get(url=url, params=parameters)\n",
    "#     one = response.json()\n",
    "    \n",
    "#     return one"
   ]
  },
  {
   "cell_type": "code",
   "execution_count": 26,
   "metadata": {},
   "outputs": [],
   "source": [
    "def get_things(latitude, longitude, query):\n",
    "    parameters = { \"client_id\" : token1,\n",
    "          \"client_secret\" : token2,\n",
    "          \"v\" : \"20180323\",\n",
    "          \"ll\": f\"{latitude},{longitude}\",\n",
    "          \"query\": query,\n",
    "          \"limit\" : 1\n",
    "    }\n",
    "    resp = requests.get (url = url, params = parameters)\n",
    "    data = json.loads(resp.text)\n",
    "    decoding_data = data.get(\"response\")\n",
    "    decoded = decoding_data.get(\"groups\")[0]\n",
    "    things = decoded.get(\"items\")\n",
    "    \n",
    "    nombre = [\"venue\", \"name\"]\n",
    "    latitud = [\"venue\", \"location\", \"lat\"]\n",
    "    longitud = [\"venue\", \"location\", \"lng\"]\n",
    "    \n",
    "    def getFromDict(diccionario,mapa):\n",
    "        return reduce(operator.getitem,mapa,diccionario)\n",
    "\n",
    "    lst = []\n",
    "    for diccionario in things:\n",
    "        paralista = {}\n",
    "        paralista[\"name\"] = getFromDict(diccionario,nombre)\n",
    "        paralista[\"latitud\"] = getFromDict(diccionario,latitud)\n",
    "        paralista[\"longitud\"] = getFromDict(diccionario,longitud)\n",
    "        lst.append(paralista)\n",
    "    \n",
    "    df = pd.DataFrame(lst)\n",
    "    \n",
    "    return df"
   ]
  },
  {
   "cell_type": "code",
   "execution_count": 27,
   "metadata": {},
   "outputs": [
    {
     "data": {
      "text/plain": [
       "[{'name': 'Bar do Celso',\n",
       "  'latitud': -23.602081410689436,\n",
       "  'longitud': -46.683298425486804}]"
      ]
     },
     "execution_count": 27,
     "metadata": {},
     "output_type": "execute_result"
    }
   ],
   "source": [
    "# Función funciona\n",
    "\n",
    "get_things(\"-23.597854\", \"-46.683560\", \"bars\")"
   ]
  },
  {
   "cell_type": "code",
   "execution_count": 11,
   "metadata": {},
   "outputs": [
    {
     "data": {
      "text/html": [
       "<div>\n",
       "<style scoped>\n",
       "    .dataframe tbody tr th:only-of-type {\n",
       "        vertical-align: middle;\n",
       "    }\n",
       "\n",
       "    .dataframe tbody tr th {\n",
       "        vertical-align: top;\n",
       "    }\n",
       "\n",
       "    .dataframe thead th {\n",
       "        text-align: right;\n",
       "    }\n",
       "</style>\n",
       "<table border=\"1\" class=\"dataframe\">\n",
       "  <thead>\n",
       "    <tr style=\"text-align: right;\">\n",
       "      <th></th>\n",
       "      <th>name</th>\n",
       "      <th>latitude</th>\n",
       "      <th>longitude</th>\n",
       "    </tr>\n",
       "  </thead>\n",
       "  <tbody>\n",
       "    <tr>\n",
       "      <th>0</th>\n",
       "      <td>Google</td>\n",
       "      <td>-23.590463</td>\n",
       "      <td>-46.681494</td>\n",
       "    </tr>\n",
       "    <tr>\n",
       "      <th>1</th>\n",
       "      <td>boo-box</td>\n",
       "      <td>-23.558584</td>\n",
       "      <td>-46.679287</td>\n",
       "    </tr>\n",
       "    <tr>\n",
       "      <th>2</th>\n",
       "      <td>Buongiorno</td>\n",
       "      <td>-23.609180</td>\n",
       "      <td>-46.692783</td>\n",
       "    </tr>\n",
       "    <tr>\n",
       "      <th>3</th>\n",
       "      <td>Globant</td>\n",
       "      <td>-23.560620</td>\n",
       "      <td>-46.681658</td>\n",
       "    </tr>\n",
       "    <tr>\n",
       "      <th>4</th>\n",
       "      <td>Estilook</td>\n",
       "      <td>-23.548943</td>\n",
       "      <td>-46.638818</td>\n",
       "    </tr>\n",
       "    <tr>\n",
       "      <th>5</th>\n",
       "      <td>Xandros</td>\n",
       "      <td>-23.527594</td>\n",
       "      <td>-46.677049</td>\n",
       "    </tr>\n",
       "    <tr>\n",
       "      <th>6</th>\n",
       "      <td>F5 Networks</td>\n",
       "      <td>-23.620738</td>\n",
       "      <td>-46.698267</td>\n",
       "    </tr>\n",
       "    <tr>\n",
       "      <th>7</th>\n",
       "      <td>Youtubehiphop</td>\n",
       "      <td>-23.548943</td>\n",
       "      <td>-46.638818</td>\n",
       "    </tr>\n",
       "    <tr>\n",
       "      <th>8</th>\n",
       "      <td>NETCRAW  IT</td>\n",
       "      <td>-23.548943</td>\n",
       "      <td>-46.638818</td>\n",
       "    </tr>\n",
       "    <tr>\n",
       "      <th>9</th>\n",
       "      <td>Imobilien</td>\n",
       "      <td>-25.434356</td>\n",
       "      <td>-49.283289</td>\n",
       "    </tr>\n",
       "    <tr>\n",
       "      <th>10</th>\n",
       "      <td>Did it Leak</td>\n",
       "      <td>-23.548943</td>\n",
       "      <td>-46.638818</td>\n",
       "    </tr>\n",
       "    <tr>\n",
       "      <th>11</th>\n",
       "      <td>Spring Mobile Solutions</td>\n",
       "      <td>-23.596530</td>\n",
       "      <td>-46.686453</td>\n",
       "    </tr>\n",
       "    <tr>\n",
       "      <th>12</th>\n",
       "      <td>North by South</td>\n",
       "      <td>-23.561293</td>\n",
       "      <td>-46.691819</td>\n",
       "    </tr>\n",
       "    <tr>\n",
       "      <th>13</th>\n",
       "      <td>Brandsclub</td>\n",
       "      <td>-23.548943</td>\n",
       "      <td>-46.638818</td>\n",
       "    </tr>\n",
       "    <tr>\n",
       "      <th>14</th>\n",
       "      <td>CPM Braxis</td>\n",
       "      <td>-23.591042</td>\n",
       "      <td>-46.687202</td>\n",
       "    </tr>\n",
       "    <tr>\n",
       "      <th>15</th>\n",
       "      <td>DP7 Digital</td>\n",
       "      <td>-23.581521</td>\n",
       "      <td>-46.677369</td>\n",
       "    </tr>\n",
       "    <tr>\n",
       "      <th>16</th>\n",
       "      <td>Hands</td>\n",
       "      <td>-23.597854</td>\n",
       "      <td>-46.683560</td>\n",
       "    </tr>\n",
       "  </tbody>\n",
       "</table>\n",
       "</div>"
      ],
      "text/plain": [
       "                       name   latitude  longitude\n",
       "0                    Google -23.590463 -46.681494\n",
       "1                   boo-box -23.558584 -46.679287\n",
       "2                Buongiorno -23.609180 -46.692783\n",
       "3                   Globant -23.560620 -46.681658\n",
       "4                  Estilook -23.548943 -46.638818\n",
       "5                   Xandros -23.527594 -46.677049\n",
       "6               F5 Networks -23.620738 -46.698267\n",
       "7             Youtubehiphop -23.548943 -46.638818\n",
       "8               NETCRAW  IT -23.548943 -46.638818\n",
       "9                 Imobilien -25.434356 -49.283289\n",
       "10              Did it Leak -23.548943 -46.638818\n",
       "11  Spring Mobile Solutions -23.596530 -46.686453\n",
       "12           North by South -23.561293 -46.691819\n",
       "13               Brandsclub -23.548943 -46.638818\n",
       "14               CPM Braxis -23.591042 -46.687202\n",
       "15              DP7 Digital -23.581521 -46.677369\n",
       "16                    Hands -23.597854 -46.683560"
      ]
     },
     "execution_count": 11,
     "metadata": {},
     "output_type": "execute_result"
    }
   ],
   "source": [
    "brasil_data"
   ]
  },
  {
   "cell_type": "code",
   "execution_count": 28,
   "metadata": {},
   "outputs": [
    {
     "ename": "TypeError",
     "evalue": "'NoneType' object is not subscriptable",
     "output_type": "error",
     "traceback": [
      "\u001b[0;31m---------------------------------------------------------------------------\u001b[0m",
      "\u001b[0;31mTypeError\u001b[0m                                 Traceback (most recent call last)",
      "\u001b[0;32m<ipython-input-28-15e97236f950>\u001b[0m in \u001b[0;36m<module>\u001b[0;34m\u001b[0m\n\u001b[0;32m----> 1\u001b[0;31m \u001b[0mget_things\u001b[0m\u001b[0;34m(\u001b[0m\u001b[0mbrasil_data\u001b[0m\u001b[0;34m.\u001b[0m\u001b[0mlatitude\u001b[0m\u001b[0;34m,\u001b[0m \u001b[0mbrasil_data\u001b[0m\u001b[0;34m.\u001b[0m\u001b[0mlongitude\u001b[0m\u001b[0;34m,\u001b[0m \u001b[0;34m\"bars\"\u001b[0m\u001b[0;34m)\u001b[0m\u001b[0;34m\u001b[0m\u001b[0;34m\u001b[0m\u001b[0m\n\u001b[0m",
      "\u001b[0;32m<ipython-input-26-36fa5f4c6076>\u001b[0m in \u001b[0;36mget_things\u001b[0;34m(latitude, longitude, query)\u001b[0m\n\u001b[1;32m     10\u001b[0m     \u001b[0mdata\u001b[0m \u001b[0;34m=\u001b[0m \u001b[0mjson\u001b[0m\u001b[0;34m.\u001b[0m\u001b[0mloads\u001b[0m\u001b[0;34m(\u001b[0m\u001b[0mresp\u001b[0m\u001b[0;34m.\u001b[0m\u001b[0mtext\u001b[0m\u001b[0;34m)\u001b[0m\u001b[0;34m\u001b[0m\u001b[0;34m\u001b[0m\u001b[0m\n\u001b[1;32m     11\u001b[0m     \u001b[0mdecoding_data\u001b[0m \u001b[0;34m=\u001b[0m \u001b[0mdata\u001b[0m\u001b[0;34m.\u001b[0m\u001b[0mget\u001b[0m\u001b[0;34m(\u001b[0m\u001b[0;34m\"response\"\u001b[0m\u001b[0;34m)\u001b[0m\u001b[0;34m\u001b[0m\u001b[0;34m\u001b[0m\u001b[0m\n\u001b[0;32m---> 12\u001b[0;31m     \u001b[0mdecoded\u001b[0m \u001b[0;34m=\u001b[0m \u001b[0mdecoding_data\u001b[0m\u001b[0;34m.\u001b[0m\u001b[0mget\u001b[0m\u001b[0;34m(\u001b[0m\u001b[0;34m\"groups\"\u001b[0m\u001b[0;34m)\u001b[0m\u001b[0;34m[\u001b[0m\u001b[0;36m0\u001b[0m\u001b[0;34m]\u001b[0m\u001b[0;34m\u001b[0m\u001b[0;34m\u001b[0m\u001b[0m\n\u001b[0m\u001b[1;32m     13\u001b[0m     \u001b[0mthings\u001b[0m \u001b[0;34m=\u001b[0m \u001b[0mdecoded\u001b[0m\u001b[0;34m.\u001b[0m\u001b[0mget\u001b[0m\u001b[0;34m(\u001b[0m\u001b[0;34m\"items\"\u001b[0m\u001b[0;34m)\u001b[0m\u001b[0;34m\u001b[0m\u001b[0;34m\u001b[0m\u001b[0m\n\u001b[1;32m     14\u001b[0m \u001b[0;34m\u001b[0m\u001b[0m\n",
      "\u001b[0;31mTypeError\u001b[0m: 'NoneType' object is not subscriptable"
     ]
    }
   ],
   "source": [
    "get_things(brasil_data.latitude, brasil_data.longitude, \"bars\")"
   ]
  },
  {
   "cell_type": "code",
   "execution_count": 15,
   "metadata": {},
   "outputs": [
    {
     "ename": "TypeError",
     "evalue": "'NoneType' object is not subscriptable",
     "output_type": "error",
     "traceback": [
      "\u001b[0;31m---------------------------------------------------------------------------\u001b[0m",
      "\u001b[0;31mTypeError\u001b[0m                                 Traceback (most recent call last)",
      "\u001b[0;32m<ipython-input-15-c5caaf886c73>\u001b[0m in \u001b[0;36m<module>\u001b[0;34m\u001b[0m\n\u001b[0;32m----> 1\u001b[0;31m \u001b[0mdf_brasil_data\u001b[0m \u001b[0;34m=\u001b[0m \u001b[0mbrasil_data\u001b[0m\u001b[0;34m.\u001b[0m\u001b[0mapply\u001b[0m\u001b[0;34m(\u001b[0m\u001b[0;32mlambda\u001b[0m \u001b[0mx\u001b[0m\u001b[0;34m:\u001b[0m \u001b[0mget_things\u001b[0m\u001b[0;34m(\u001b[0m\u001b[0mbrasil_data\u001b[0m\u001b[0;34m.\u001b[0m\u001b[0mlatitude\u001b[0m\u001b[0;34m,\u001b[0m \u001b[0mbrasil_data\u001b[0m\u001b[0;34m.\u001b[0m\u001b[0mlongitude\u001b[0m\u001b[0;34m,\u001b[0m \u001b[0;34m'bars'\u001b[0m\u001b[0;34m)\u001b[0m\u001b[0;34m,\u001b[0m \u001b[0maxis\u001b[0m\u001b[0;34m=\u001b[0m\u001b[0;36m1\u001b[0m\u001b[0;34m)\u001b[0m\u001b[0;34m\u001b[0m\u001b[0;34m\u001b[0m\u001b[0m\n\u001b[0m",
      "\u001b[0;32m/usr/local/lib/python3.9/site-packages/pandas/core/frame.py\u001b[0m in \u001b[0;36mapply\u001b[0;34m(self, func, axis, raw, result_type, args, **kwds)\u001b[0m\n\u001b[1;32m   7550\u001b[0m             \u001b[0mkwds\u001b[0m\u001b[0;34m=\u001b[0m\u001b[0mkwds\u001b[0m\u001b[0;34m,\u001b[0m\u001b[0;34m\u001b[0m\u001b[0;34m\u001b[0m\u001b[0m\n\u001b[1;32m   7551\u001b[0m         )\n\u001b[0;32m-> 7552\u001b[0;31m         \u001b[0;32mreturn\u001b[0m \u001b[0mop\u001b[0m\u001b[0;34m.\u001b[0m\u001b[0mget_result\u001b[0m\u001b[0;34m(\u001b[0m\u001b[0;34m)\u001b[0m\u001b[0;34m\u001b[0m\u001b[0;34m\u001b[0m\u001b[0m\n\u001b[0m\u001b[1;32m   7553\u001b[0m \u001b[0;34m\u001b[0m\u001b[0m\n\u001b[1;32m   7554\u001b[0m     \u001b[0;32mdef\u001b[0m \u001b[0mapplymap\u001b[0m\u001b[0;34m(\u001b[0m\u001b[0mself\u001b[0m\u001b[0;34m,\u001b[0m \u001b[0mfunc\u001b[0m\u001b[0;34m)\u001b[0m \u001b[0;34m->\u001b[0m \u001b[0;34m\"DataFrame\"\u001b[0m\u001b[0;34m:\u001b[0m\u001b[0;34m\u001b[0m\u001b[0;34m\u001b[0m\u001b[0m\n",
      "\u001b[0;32m/usr/local/lib/python3.9/site-packages/pandas/core/apply.py\u001b[0m in \u001b[0;36mget_result\u001b[0;34m(self)\u001b[0m\n\u001b[1;32m    178\u001b[0m             \u001b[0;32mreturn\u001b[0m \u001b[0mself\u001b[0m\u001b[0;34m.\u001b[0m\u001b[0mapply_raw\u001b[0m\u001b[0;34m(\u001b[0m\u001b[0;34m)\u001b[0m\u001b[0;34m\u001b[0m\u001b[0;34m\u001b[0m\u001b[0m\n\u001b[1;32m    179\u001b[0m \u001b[0;34m\u001b[0m\u001b[0m\n\u001b[0;32m--> 180\u001b[0;31m         \u001b[0;32mreturn\u001b[0m \u001b[0mself\u001b[0m\u001b[0;34m.\u001b[0m\u001b[0mapply_standard\u001b[0m\u001b[0;34m(\u001b[0m\u001b[0;34m)\u001b[0m\u001b[0;34m\u001b[0m\u001b[0;34m\u001b[0m\u001b[0m\n\u001b[0m\u001b[1;32m    181\u001b[0m \u001b[0;34m\u001b[0m\u001b[0m\n\u001b[1;32m    182\u001b[0m     \u001b[0;32mdef\u001b[0m \u001b[0mapply_empty_result\u001b[0m\u001b[0;34m(\u001b[0m\u001b[0mself\u001b[0m\u001b[0;34m)\u001b[0m\u001b[0;34m:\u001b[0m\u001b[0;34m\u001b[0m\u001b[0;34m\u001b[0m\u001b[0m\n",
      "\u001b[0;32m/usr/local/lib/python3.9/site-packages/pandas/core/apply.py\u001b[0m in \u001b[0;36mapply_standard\u001b[0;34m(self)\u001b[0m\n\u001b[1;32m    269\u001b[0m \u001b[0;34m\u001b[0m\u001b[0m\n\u001b[1;32m    270\u001b[0m     \u001b[0;32mdef\u001b[0m \u001b[0mapply_standard\u001b[0m\u001b[0;34m(\u001b[0m\u001b[0mself\u001b[0m\u001b[0;34m)\u001b[0m\u001b[0;34m:\u001b[0m\u001b[0;34m\u001b[0m\u001b[0;34m\u001b[0m\u001b[0m\n\u001b[0;32m--> 271\u001b[0;31m         \u001b[0mresults\u001b[0m\u001b[0;34m,\u001b[0m \u001b[0mres_index\u001b[0m \u001b[0;34m=\u001b[0m \u001b[0mself\u001b[0m\u001b[0;34m.\u001b[0m\u001b[0mapply_series_generator\u001b[0m\u001b[0;34m(\u001b[0m\u001b[0;34m)\u001b[0m\u001b[0;34m\u001b[0m\u001b[0;34m\u001b[0m\u001b[0m\n\u001b[0m\u001b[1;32m    272\u001b[0m \u001b[0;34m\u001b[0m\u001b[0m\n\u001b[1;32m    273\u001b[0m         \u001b[0;31m# wrap results\u001b[0m\u001b[0;34m\u001b[0m\u001b[0;34m\u001b[0m\u001b[0;34m\u001b[0m\u001b[0m\n",
      "\u001b[0;32m/usr/local/lib/python3.9/site-packages/pandas/core/apply.py\u001b[0m in \u001b[0;36mapply_series_generator\u001b[0;34m(self)\u001b[0m\n\u001b[1;32m    298\u001b[0m                 \u001b[0;32mfor\u001b[0m \u001b[0mi\u001b[0m\u001b[0;34m,\u001b[0m \u001b[0mv\u001b[0m \u001b[0;32min\u001b[0m \u001b[0menumerate\u001b[0m\u001b[0;34m(\u001b[0m\u001b[0mseries_gen\u001b[0m\u001b[0;34m)\u001b[0m\u001b[0;34m:\u001b[0m\u001b[0;34m\u001b[0m\u001b[0;34m\u001b[0m\u001b[0m\n\u001b[1;32m    299\u001b[0m                     \u001b[0;31m# ignore SettingWithCopy here in case the user mutates\u001b[0m\u001b[0;34m\u001b[0m\u001b[0;34m\u001b[0m\u001b[0;34m\u001b[0m\u001b[0m\n\u001b[0;32m--> 300\u001b[0;31m                     \u001b[0mresults\u001b[0m\u001b[0;34m[\u001b[0m\u001b[0mi\u001b[0m\u001b[0;34m]\u001b[0m \u001b[0;34m=\u001b[0m \u001b[0mself\u001b[0m\u001b[0;34m.\u001b[0m\u001b[0mf\u001b[0m\u001b[0;34m(\u001b[0m\u001b[0mv\u001b[0m\u001b[0;34m)\u001b[0m\u001b[0;34m\u001b[0m\u001b[0;34m\u001b[0m\u001b[0m\n\u001b[0m\u001b[1;32m    301\u001b[0m                     \u001b[0;32mif\u001b[0m \u001b[0misinstance\u001b[0m\u001b[0;34m(\u001b[0m\u001b[0mresults\u001b[0m\u001b[0;34m[\u001b[0m\u001b[0mi\u001b[0m\u001b[0;34m]\u001b[0m\u001b[0;34m,\u001b[0m \u001b[0mABCSeries\u001b[0m\u001b[0;34m)\u001b[0m\u001b[0;34m:\u001b[0m\u001b[0;34m\u001b[0m\u001b[0;34m\u001b[0m\u001b[0m\n\u001b[1;32m    302\u001b[0m                         \u001b[0;31m# If we have a view on v, we need to make a copy because\u001b[0m\u001b[0;34m\u001b[0m\u001b[0;34m\u001b[0m\u001b[0;34m\u001b[0m\u001b[0m\n",
      "\u001b[0;32m<ipython-input-15-c5caaf886c73>\u001b[0m in \u001b[0;36m<lambda>\u001b[0;34m(x)\u001b[0m\n\u001b[0;32m----> 1\u001b[0;31m \u001b[0mdf_brasil_data\u001b[0m \u001b[0;34m=\u001b[0m \u001b[0mbrasil_data\u001b[0m\u001b[0;34m.\u001b[0m\u001b[0mapply\u001b[0m\u001b[0;34m(\u001b[0m\u001b[0;32mlambda\u001b[0m \u001b[0mx\u001b[0m\u001b[0;34m:\u001b[0m \u001b[0mget_things\u001b[0m\u001b[0;34m(\u001b[0m\u001b[0mbrasil_data\u001b[0m\u001b[0;34m.\u001b[0m\u001b[0mlatitude\u001b[0m\u001b[0;34m,\u001b[0m \u001b[0mbrasil_data\u001b[0m\u001b[0;34m.\u001b[0m\u001b[0mlongitude\u001b[0m\u001b[0;34m,\u001b[0m \u001b[0;34m'bars'\u001b[0m\u001b[0;34m)\u001b[0m\u001b[0;34m,\u001b[0m \u001b[0maxis\u001b[0m\u001b[0;34m=\u001b[0m\u001b[0;36m1\u001b[0m\u001b[0;34m)\u001b[0m\u001b[0;34m\u001b[0m\u001b[0;34m\u001b[0m\u001b[0m\n\u001b[0m",
      "\u001b[0;32m<ipython-input-6-5031bfd99777>\u001b[0m in \u001b[0;36mget_things\u001b[0;34m(latitude, longitude, query)\u001b[0m\n\u001b[1;32m     10\u001b[0m     \u001b[0mdata\u001b[0m \u001b[0;34m=\u001b[0m \u001b[0mjson\u001b[0m\u001b[0;34m.\u001b[0m\u001b[0mloads\u001b[0m\u001b[0;34m(\u001b[0m\u001b[0mresp\u001b[0m\u001b[0;34m.\u001b[0m\u001b[0mtext\u001b[0m\u001b[0;34m)\u001b[0m\u001b[0;34m\u001b[0m\u001b[0;34m\u001b[0m\u001b[0m\n\u001b[1;32m     11\u001b[0m     \u001b[0mdecoding_data\u001b[0m \u001b[0;34m=\u001b[0m \u001b[0mdata\u001b[0m\u001b[0;34m.\u001b[0m\u001b[0mget\u001b[0m\u001b[0;34m(\u001b[0m\u001b[0;34m\"response\"\u001b[0m\u001b[0;34m)\u001b[0m\u001b[0;34m\u001b[0m\u001b[0;34m\u001b[0m\u001b[0m\n\u001b[0;32m---> 12\u001b[0;31m     \u001b[0mdecoded\u001b[0m \u001b[0;34m=\u001b[0m \u001b[0mdecoding_data\u001b[0m\u001b[0;34m.\u001b[0m\u001b[0mget\u001b[0m\u001b[0;34m(\u001b[0m\u001b[0;34m\"groups\"\u001b[0m\u001b[0;34m)\u001b[0m\u001b[0;34m[\u001b[0m\u001b[0;36m0\u001b[0m\u001b[0;34m]\u001b[0m\u001b[0;34m\u001b[0m\u001b[0;34m\u001b[0m\u001b[0m\n\u001b[0m\u001b[1;32m     13\u001b[0m     \u001b[0mthings\u001b[0m \u001b[0;34m=\u001b[0m \u001b[0mdecoded\u001b[0m\u001b[0;34m.\u001b[0m\u001b[0mget\u001b[0m\u001b[0;34m(\u001b[0m\u001b[0;34m\"items\"\u001b[0m\u001b[0;34m)\u001b[0m\u001b[0;34m\u001b[0m\u001b[0;34m\u001b[0m\u001b[0m\n\u001b[1;32m     14\u001b[0m \u001b[0;34m\u001b[0m\u001b[0m\n",
      "\u001b[0;31mTypeError\u001b[0m: 'NoneType' object is not subscriptable"
     ]
    }
   ],
   "source": [
    "df_brasil_data = brasil_data.apply(lambda x: get_things(brasil_data.latitude, brasil_data.longitude, 'bars'), axis=1)"
   ]
  },
  {
   "cell_type": "code",
   "execution_count": null,
   "metadata": {},
   "outputs": [],
   "source": []
  },
  {
   "cell_type": "code",
   "execution_count": null,
   "metadata": {},
   "outputs": [],
   "source": []
  },
  {
   "cell_type": "code",
   "execution_count": null,
   "metadata": {},
   "outputs": [],
   "source": []
  },
  {
   "cell_type": "code",
   "execution_count": null,
   "metadata": {},
   "outputs": [],
   "source": []
  },
  {
   "cell_type": "code",
   "execution_count": null,
   "metadata": {},
   "outputs": [],
   "source": []
  },
  {
   "cell_type": "code",
   "execution_count": null,
   "metadata": {},
   "outputs": [],
   "source": []
  },
  {
   "cell_type": "code",
   "execution_count": null,
   "metadata": {},
   "outputs": [],
   "source": []
  },
  {
   "cell_type": "code",
   "execution_count": null,
   "metadata": {},
   "outputs": [],
   "source": []
  },
  {
   "cell_type": "code",
   "execution_count": null,
   "metadata": {},
   "outputs": [],
   "source": []
  },
  {
   "cell_type": "code",
   "execution_count": null,
   "metadata": {},
   "outputs": [],
   "source": []
  },
  {
   "cell_type": "code",
   "execution_count": null,
   "metadata": {},
   "outputs": [],
   "source": []
  },
  {
   "cell_type": "code",
   "execution_count": null,
   "metadata": {},
   "outputs": [],
   "source": []
  },
  {
   "cell_type": "code",
   "execution_count": null,
   "metadata": {},
   "outputs": [],
   "source": []
  },
  {
   "cell_type": "code",
   "execution_count": null,
   "metadata": {},
   "outputs": [],
   "source": []
  },
  {
   "cell_type": "code",
   "execution_count": null,
   "metadata": {},
   "outputs": [],
   "source": []
  },
  {
   "cell_type": "code",
   "execution_count": null,
   "metadata": {},
   "outputs": [],
   "source": []
  },
  {
   "cell_type": "code",
   "execution_count": 18,
   "metadata": {},
   "outputs": [],
   "source": [
    "parameters = { \"client_id\" : token1,\n",
    "          \"client_secret\" : token2,\n",
    "          \"v\" : \"20180323\",\n",
    "          \"ll\": \"-23.597854, -46.683560\",\n",
    "          \"query\": \"bars\",\n",
    "          \"limit\" : 1\n",
    "    }"
   ]
  },
  {
   "cell_type": "code",
   "execution_count": 19,
   "metadata": {
    "scrolled": true
   },
   "outputs": [
    {
     "data": {
      "text/plain": [
       "{'meta': {'code': 200, 'requestId': '5fb2967cf20935015a0dee22'},\n",
       " 'response': {'suggestedFilters': {'header': 'Tap to show:',\n",
       "   'filters': [{'name': 'Open now', 'key': 'openNow'}]},\n",
       "  'warning': {'text': 'There aren\\'t a lot of results for \"bars.\" Try something more general, reset your filters, or expand the search area.'},\n",
       "  'suggestedRadius': 600,\n",
       "  'headerLocation': 'Vila Olímpia',\n",
       "  'headerFullLocation': 'Vila Olímpia, São Paulo',\n",
       "  'headerLocationGranularity': 'neighborhood',\n",
       "  'query': 'bars',\n",
       "  'totalResults': 120,\n",
       "  'suggestedBounds': {'ne': {'lat': -23.600731580796715,\n",
       "    'lng': -46.6496584199647},\n",
       "   'sw': {'lat': -23.603431240582157, 'lng': -46.716938431008906}},\n",
       "  'groups': [{'type': 'Recommended Places',\n",
       "    'name': 'recommended',\n",
       "    'items': [{'reasons': {'count': 0,\n",
       "       'items': [{'summary': 'This spot is popular',\n",
       "         'type': 'general',\n",
       "         'reasonName': 'globalInteractionReason'}]},\n",
       "      'venue': {'id': '4b15c127f964a520c8b323e3',\n",
       "       'name': 'Bar do Celso',\n",
       "       'contact': {},\n",
       "       'location': {'address': 'R. Brejo Alegre, 414, Itaim Bibi',\n",
       "        'lat': -23.602081410689436,\n",
       "        'lng': -46.683298425486804,\n",
       "        'labeledLatLngs': [{'label': 'display',\n",
       "          'lat': -23.602081410689436,\n",
       "          'lng': -46.683298425486804}],\n",
       "        'distance': 471,\n",
       "        'cc': 'BR',\n",
       "        'city': 'São Paulo',\n",
       "        'state': 'SP',\n",
       "        'country': 'Brasil',\n",
       "        'formattedAddress': ['R. Brejo Alegre, 414, Itaim Bibi',\n",
       "         'São Paulo, SP',\n",
       "         'Brasil']},\n",
       "       'categories': [{'id': '4bf58dd8d48988d116941735',\n",
       "         'name': 'Bar',\n",
       "         'pluralName': 'Bars',\n",
       "         'shortName': 'Bar',\n",
       "         'icon': {'prefix': 'https://ss3.4sqi.net/img/categories_v2/nightlife/pub_',\n",
       "          'suffix': '.png'},\n",
       "         'primary': True}],\n",
       "       'verified': False,\n",
       "       'stats': {'tipCount': 0,\n",
       "        'usersCount': 0,\n",
       "        'checkinsCount': 0,\n",
       "        'visitsCount': 0},\n",
       "       'beenHere': {'count': 0,\n",
       "        'lastCheckinExpiredAt': 0,\n",
       "        'marked': False,\n",
       "        'unconfirmedCount': 0},\n",
       "       'photos': {'count': 0, 'groups': []},\n",
       "       'hereNow': {'count': 0, 'summary': 'Nobody here', 'groups': []}},\n",
       "      'referralId': 'e-0-4b15c127f964a520c8b323e3-0'}]}]}}"
      ]
     },
     "execution_count": 19,
     "metadata": {},
     "output_type": "execute_result"
    }
   ],
   "source": [
    "resp = requests.get (url = url, params = parameters)\n",
    "data = json.loads(resp.text)\n",
    "data"
   ]
  },
  {
   "cell_type": "code",
   "execution_count": 20,
   "metadata": {},
   "outputs": [
    {
     "data": {
      "text/plain": [
       "2"
      ]
     },
     "execution_count": 20,
     "metadata": {},
     "output_type": "execute_result"
    }
   ],
   "source": [
    "len(data)"
   ]
  },
  {
   "cell_type": "code",
   "execution_count": 90,
   "metadata": {
    "scrolled": true
   },
   "outputs": [
    {
     "data": {
      "text/plain": [
       "{'suggestedFilters': {'header': 'Tap to show:',\n",
       "  'filters': [{'name': 'Open now', 'key': 'openNow'}]},\n",
       " 'warning': {'text': 'There aren\\'t a lot of results for \"bars.\" Try something more general, reset your filters, or expand the search area.'},\n",
       " 'suggestedRadius': 600,\n",
       " 'headerLocation': 'Vila Olímpia',\n",
       " 'headerFullLocation': 'Vila Olímpia, São Paulo',\n",
       " 'headerLocationGranularity': 'neighborhood',\n",
       " 'query': 'bars',\n",
       " 'totalResults': 120,\n",
       " 'suggestedBounds': {'ne': {'lat': -23.600731580796715,\n",
       "   'lng': -46.6496584199647},\n",
       "  'sw': {'lat': -23.603431240582157, 'lng': -46.716938431008906}},\n",
       " 'groups': [{'type': 'Recommended Places',\n",
       "   'name': 'recommended',\n",
       "   'items': [{'reasons': {'count': 0,\n",
       "      'items': [{'summary': 'This spot is popular',\n",
       "        'type': 'general',\n",
       "        'reasonName': 'globalInteractionReason'}]},\n",
       "     'venue': {'id': '4b15c127f964a520c8b323e3',\n",
       "      'name': 'Bar do Celso',\n",
       "      'contact': {},\n",
       "      'location': {'address': 'R. Brejo Alegre, 414, Itaim Bibi',\n",
       "       'lat': -23.602081410689436,\n",
       "       'lng': -46.683298425486804,\n",
       "       'labeledLatLngs': [{'label': 'display',\n",
       "         'lat': -23.602081410689436,\n",
       "         'lng': -46.683298425486804}],\n",
       "       'distance': 471,\n",
       "       'cc': 'BR',\n",
       "       'city': 'São Paulo',\n",
       "       'state': 'SP',\n",
       "       'country': 'Brasil',\n",
       "       'formattedAddress': ['R. Brejo Alegre, 414, Itaim Bibi',\n",
       "        'São Paulo, SP',\n",
       "        'Brasil']},\n",
       "      'categories': [{'id': '4bf58dd8d48988d116941735',\n",
       "        'name': 'Bar',\n",
       "        'pluralName': 'Bars',\n",
       "        'shortName': 'Bar',\n",
       "        'icon': {'prefix': 'https://ss3.4sqi.net/img/categories_v2/nightlife/pub_',\n",
       "         'suffix': '.png'},\n",
       "        'primary': True}],\n",
       "      'verified': False,\n",
       "      'stats': {'tipCount': 0,\n",
       "       'usersCount': 0,\n",
       "       'checkinsCount': 0,\n",
       "       'visitsCount': 0},\n",
       "      'beenHere': {'count': 0,\n",
       "       'lastCheckinExpiredAt': 0,\n",
       "       'marked': False,\n",
       "       'unconfirmedCount': 0},\n",
       "      'photos': {'count': 0, 'groups': []},\n",
       "      'hereNow': {'count': 0, 'summary': 'Nobody here', 'groups': []}},\n",
       "     'referralId': 'e-0-4b15c127f964a520c8b323e3-0'}]}]}"
      ]
     },
     "execution_count": 90,
     "metadata": {},
     "output_type": "execute_result"
    }
   ],
   "source": [
    "decoding_data = data.get(\"response\")\n",
    "decoding_data "
   ]
  },
  {
   "cell_type": "code",
   "execution_count": 94,
   "metadata": {
    "scrolled": true
   },
   "outputs": [
    {
     "data": {
      "text/plain": [
       "{'type': 'Recommended Places',\n",
       " 'name': 'recommended',\n",
       " 'items': [{'reasons': {'count': 0,\n",
       "    'items': [{'summary': 'This spot is popular',\n",
       "      'type': 'general',\n",
       "      'reasonName': 'globalInteractionReason'}]},\n",
       "   'venue': {'id': '4b15c127f964a520c8b323e3',\n",
       "    'name': 'Bar do Celso',\n",
       "    'contact': {},\n",
       "    'location': {'address': 'R. Brejo Alegre, 414, Itaim Bibi',\n",
       "     'lat': -23.602081410689436,\n",
       "     'lng': -46.683298425486804,\n",
       "     'labeledLatLngs': [{'label': 'display',\n",
       "       'lat': -23.602081410689436,\n",
       "       'lng': -46.683298425486804}],\n",
       "     'distance': 471,\n",
       "     'cc': 'BR',\n",
       "     'city': 'São Paulo',\n",
       "     'state': 'SP',\n",
       "     'country': 'Brasil',\n",
       "     'formattedAddress': ['R. Brejo Alegre, 414, Itaim Bibi',\n",
       "      'São Paulo, SP',\n",
       "      'Brasil']},\n",
       "    'categories': [{'id': '4bf58dd8d48988d116941735',\n",
       "      'name': 'Bar',\n",
       "      'pluralName': 'Bars',\n",
       "      'shortName': 'Bar',\n",
       "      'icon': {'prefix': 'https://ss3.4sqi.net/img/categories_v2/nightlife/pub_',\n",
       "       'suffix': '.png'},\n",
       "      'primary': True}],\n",
       "    'verified': False,\n",
       "    'stats': {'tipCount': 0,\n",
       "     'usersCount': 0,\n",
       "     'checkinsCount': 0,\n",
       "     'visitsCount': 0},\n",
       "    'beenHere': {'count': 0,\n",
       "     'lastCheckinExpiredAt': 0,\n",
       "     'marked': False,\n",
       "     'unconfirmedCount': 0},\n",
       "    'photos': {'count': 0, 'groups': []},\n",
       "    'hereNow': {'count': 0, 'summary': 'Nobody here', 'groups': []}},\n",
       "   'referralId': 'e-0-4b15c127f964a520c8b323e3-0'}]}"
      ]
     },
     "execution_count": 94,
     "metadata": {},
     "output_type": "execute_result"
    }
   ],
   "source": [
    "decoded = decoding_data.get(\"groups\")[0]\n",
    "decoded   "
   ]
  },
  {
   "cell_type": "code",
   "execution_count": 92,
   "metadata": {
    "scrolled": true
   },
   "outputs": [
    {
     "data": {
      "text/plain": [
       "[{'reasons': {'count': 0,\n",
       "   'items': [{'summary': 'This spot is popular',\n",
       "     'type': 'general',\n",
       "     'reasonName': 'globalInteractionReason'}]},\n",
       "  'venue': {'id': '4b15c127f964a520c8b323e3',\n",
       "   'name': 'Bar do Celso',\n",
       "   'contact': {},\n",
       "   'location': {'address': 'R. Brejo Alegre, 414, Itaim Bibi',\n",
       "    'lat': -23.602081410689436,\n",
       "    'lng': -46.683298425486804,\n",
       "    'labeledLatLngs': [{'label': 'display',\n",
       "      'lat': -23.602081410689436,\n",
       "      'lng': -46.683298425486804}],\n",
       "    'distance': 471,\n",
       "    'cc': 'BR',\n",
       "    'city': 'São Paulo',\n",
       "    'state': 'SP',\n",
       "    'country': 'Brasil',\n",
       "    'formattedAddress': ['R. Brejo Alegre, 414, Itaim Bibi',\n",
       "     'São Paulo, SP',\n",
       "     'Brasil']},\n",
       "   'categories': [{'id': '4bf58dd8d48988d116941735',\n",
       "     'name': 'Bar',\n",
       "     'pluralName': 'Bars',\n",
       "     'shortName': 'Bar',\n",
       "     'icon': {'prefix': 'https://ss3.4sqi.net/img/categories_v2/nightlife/pub_',\n",
       "      'suffix': '.png'},\n",
       "     'primary': True}],\n",
       "   'verified': False,\n",
       "   'stats': {'tipCount': 0,\n",
       "    'usersCount': 0,\n",
       "    'checkinsCount': 0,\n",
       "    'visitsCount': 0},\n",
       "   'beenHere': {'count': 0,\n",
       "    'lastCheckinExpiredAt': 0,\n",
       "    'marked': False,\n",
       "    'unconfirmedCount': 0},\n",
       "   'photos': {'count': 0, 'groups': []},\n",
       "   'hereNow': {'count': 0, 'summary': 'Nobody here', 'groups': []}},\n",
       "  'referralId': 'e-0-4b15c127f964a520c8b323e3-0'}]"
      ]
     },
     "execution_count": 92,
     "metadata": {},
     "output_type": "execute_result"
    }
   ],
   "source": [
    "things = decoded.get(\"items\")\n",
    "things"
   ]
  },
  {
   "cell_type": "code",
   "execution_count": null,
   "metadata": {},
   "outputs": [],
   "source": [
    "nombre = [\"venue\", \"name\"]\n",
    "latitud = [\"venue\", \"location\", \"lat\"]\n",
    "longitud = [\"venue\", \"location\", \"lng\"]"
   ]
  }
 ],
 "metadata": {
  "kernelspec": {
   "display_name": "Python 3",
   "language": "python",
   "name": "python3"
  },
  "language_info": {
   "codemirror_mode": {
    "name": "ipython",
    "version": 3
   },
   "file_extension": ".py",
   "mimetype": "text/x-python",
   "name": "python",
   "nbconvert_exporter": "python",
   "pygments_lexer": "ipython3",
   "version": "3.9.0"
  }
 },
 "nbformat": 4,
 "nbformat_minor": 4
}
